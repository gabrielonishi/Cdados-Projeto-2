{
 "cells": [
  {
   "cell_type": "markdown",
   "metadata": {},
   "source": [
    "<h1>Ciência dos Dados - 2021.1: Projeto 2</h1>\n",
    "<h2>Previsão de metascore a partir de dados secundários</h2>"
   ]
  },
  {
   "cell_type": "markdown",
   "metadata": {},
   "source": [
    "<h3>Integrantes:</h3>\n",
    "\n",
    "- Gabriel Hideki Stanzani Onishi\n",
    "- Lucca de Paiva Barroso Saraiva\n",
    "\n",
    "<h2>Objetivos do Projeto</h2>\n",
    "\n",
    "A arte é integral para a evolução do ser humano. Expressar-se através de um poema, de um desenho ou de um filme é parte do que nos faz únicos nesse planeta. Não é a toa que para alguns filósofos, como o alemão Friedrich Nietzsche, a arte é o motor que nos faz evoluir como espécie, sendo a nossa esperança de chegar na melhor versão de nós mesmos. Tão notável quanto a arte em si, contudo, é a impressão que a acompanha.\n",
    "\n",
    "Todos saímos de um filme com uma impressão diferente, mas são poucos que tem a sua opinião validada e levada para milhares de outras pessoas. Críticos são os responsáveis pela dificílima tarefa de fazer o julgamento mais próximo da verdade e transmiti-lo para aqueles que ainda não puderam experenciar a obra (além daqueles que querem ter o seu julgamento comparado, é claro). Não há, entretanto, um conjunto de regras que esses profissionais tenham que seguir$^1$ para resumir em uma nota algo tão subjetivo quanto um filme, o que faz com que certos vieses manifestem-se.\n",
    "\n",
    "Um exemplo claro está presente na maior premiação anual de cinema. Os prêmios da Academia de Cinema dos Estados Unidos ou, como são popularmente conhecidos, os Oscars, tem um segredo que poucos sabem. Os vencedores de melhor filme do evento seguem um notável padrão, e filmes que o respeitam recebem até receberam um apelido: \"Oscar Baits\", ou Iscas de Oscar. Em um estudo mencionado nesse <a href='https://www.businessinsider.com/oscars-academy-awards-rigged-best-picture-nominations-win-2019-2?op=1'>artigo</a> da Business Insider revela que assustadores 94% dos vencedores pertencem à categoria drama contra apenas 2% de filmes de ação e aventura. Além disso, o texto sugere que há uma preferência para filmes longos (e portanto teoricamente mais importantes) - 76% dos vencedores desde 1960 têm mais de duas horas de duração.\n",
    "\n",
    "Munidos da curiosidade de verificar esses viéses em uma base de dados maior, os alunos se propuseram a analisar um conjunto de mais de 80 mil filmes para que, através de dados secundários (como gênero, duração, país de origem e língua principal), seja possível estimar o metascore$^2$ de outros longas. Esperamos que esse estudo sirva de inspiração para que se desmistifique a nota de críticos como autoridades absolutas, dando mais conforto para que aqueles que gostem de cinema possam ter opinião própria sem precisar se basear em reviews.\n",
    "\n",
    "$^1$É claro que houve tentativas na história da filosofia de se padronizar a forma de crítica da arte. O empirista escocês David Hume foi um dos teóricos dessa área, tendo escrito uma série de regras para que o \"tastemaker\" (ou fazedor de gosto, numa tradução literal) chegue o mais próximo possível de uma resenha informal acerca do objeto estudado.<br>\n",
    "$^2$Metascore é uma nota atribuida sobre uma obra pelo site Metascore. Para a nota final, leva-se em conta um conjunto de críticas de meios de comunicação"
   ]
  },
  {
   "cell_type": "markdown",
   "metadata": {},
   "source": [
    "<h2> Parte 0: Importando elementos</h2>"
   ]
  },
  {
   "cell_type": "code",
   "execution_count": 1,
   "metadata": {},
   "outputs": [],
   "source": [
    "#Importando bibliotecas necessárias\n",
    "import pandas as pd\n",
    "import matplotlib.pyplot as plt\n",
    "import numpy as np\n",
    "import re\n",
    "from scipy import stats"
   ]
  },
  {
   "cell_type": "code",
   "execution_count": 2,
   "metadata": {},
   "outputs": [
    {
     "name": "stderr",
     "output_type": "stream",
     "text": [
      "C:\\Users\\lucca\\anaconda3\\lib\\site-packages\\IPython\\core\\interactiveshell.py:3071: DtypeWarning: Columns (3) have mixed types.Specify dtype option on import or set low_memory=False.\n",
      "  has_raised = await self.run_ast_nodes(code_ast.body, cell_name,\n"
     ]
    },
    {
     "data": {
      "text/html": [
       "<div>\n",
       "<style scoped>\n",
       "    .dataframe tbody tr th:only-of-type {\n",
       "        vertical-align: middle;\n",
       "    }\n",
       "\n",
       "    .dataframe tbody tr th {\n",
       "        vertical-align: top;\n",
       "    }\n",
       "\n",
       "    .dataframe thead th {\n",
       "        text-align: right;\n",
       "    }\n",
       "</style>\n",
       "<table border=\"1\" class=\"dataframe\">\n",
       "  <thead>\n",
       "    <tr style=\"text-align: right;\">\n",
       "      <th></th>\n",
       "      <th>imdb_title_id</th>\n",
       "      <th>title</th>\n",
       "      <th>original_title</th>\n",
       "      <th>year</th>\n",
       "      <th>date_published</th>\n",
       "      <th>genre</th>\n",
       "      <th>duration</th>\n",
       "      <th>country</th>\n",
       "      <th>language</th>\n",
       "      <th>director</th>\n",
       "      <th>...</th>\n",
       "      <th>actors</th>\n",
       "      <th>description</th>\n",
       "      <th>avg_vote</th>\n",
       "      <th>votes</th>\n",
       "      <th>budget</th>\n",
       "      <th>usa_gross_income</th>\n",
       "      <th>worlwide_gross_income</th>\n",
       "      <th>metascore</th>\n",
       "      <th>reviews_from_users</th>\n",
       "      <th>reviews_from_critics</th>\n",
       "    </tr>\n",
       "  </thead>\n",
       "  <tbody>\n",
       "    <tr>\n",
       "      <th>0</th>\n",
       "      <td>tt0000009</td>\n",
       "      <td>Miss Jerry</td>\n",
       "      <td>Miss Jerry</td>\n",
       "      <td>1894</td>\n",
       "      <td>1894-10-09</td>\n",
       "      <td>Romance</td>\n",
       "      <td>45</td>\n",
       "      <td>USA</td>\n",
       "      <td>None</td>\n",
       "      <td>Alexander Black</td>\n",
       "      <td>...</td>\n",
       "      <td>Blanche Bayliss, William Courtenay, Chauncey D...</td>\n",
       "      <td>The adventures of a female reporter in the 1890s.</td>\n",
       "      <td>5.9</td>\n",
       "      <td>154</td>\n",
       "      <td>NaN</td>\n",
       "      <td>NaN</td>\n",
       "      <td>NaN</td>\n",
       "      <td>NaN</td>\n",
       "      <td>1.0</td>\n",
       "      <td>2.0</td>\n",
       "    </tr>\n",
       "    <tr>\n",
       "      <th>1</th>\n",
       "      <td>tt0000574</td>\n",
       "      <td>The Story of the Kelly Gang</td>\n",
       "      <td>The Story of the Kelly Gang</td>\n",
       "      <td>1906</td>\n",
       "      <td>1906-12-26</td>\n",
       "      <td>Biography, Crime, Drama</td>\n",
       "      <td>70</td>\n",
       "      <td>Australia</td>\n",
       "      <td>None</td>\n",
       "      <td>Charles Tait</td>\n",
       "      <td>...</td>\n",
       "      <td>Elizabeth Tait, John Tait, Norman Campbell, Be...</td>\n",
       "      <td>True story of notorious Australian outlaw Ned ...</td>\n",
       "      <td>6.1</td>\n",
       "      <td>589</td>\n",
       "      <td>$ 2250</td>\n",
       "      <td>NaN</td>\n",
       "      <td>NaN</td>\n",
       "      <td>NaN</td>\n",
       "      <td>7.0</td>\n",
       "      <td>7.0</td>\n",
       "    </tr>\n",
       "    <tr>\n",
       "      <th>2</th>\n",
       "      <td>tt0001892</td>\n",
       "      <td>Den sorte drøm</td>\n",
       "      <td>Den sorte drøm</td>\n",
       "      <td>1911</td>\n",
       "      <td>1911-08-19</td>\n",
       "      <td>Drama</td>\n",
       "      <td>53</td>\n",
       "      <td>Germany, Denmark</td>\n",
       "      <td>NaN</td>\n",
       "      <td>Urban Gad</td>\n",
       "      <td>...</td>\n",
       "      <td>Asta Nielsen, Valdemar Psilander, Gunnar Helse...</td>\n",
       "      <td>Two men of high rank are both wooing the beaut...</td>\n",
       "      <td>5.8</td>\n",
       "      <td>188</td>\n",
       "      <td>NaN</td>\n",
       "      <td>NaN</td>\n",
       "      <td>NaN</td>\n",
       "      <td>NaN</td>\n",
       "      <td>5.0</td>\n",
       "      <td>2.0</td>\n",
       "    </tr>\n",
       "    <tr>\n",
       "      <th>3</th>\n",
       "      <td>tt0002101</td>\n",
       "      <td>Cleopatra</td>\n",
       "      <td>Cleopatra</td>\n",
       "      <td>1912</td>\n",
       "      <td>1912-11-13</td>\n",
       "      <td>Drama, History</td>\n",
       "      <td>100</td>\n",
       "      <td>USA</td>\n",
       "      <td>English</td>\n",
       "      <td>Charles L. Gaskill</td>\n",
       "      <td>...</td>\n",
       "      <td>Helen Gardner, Pearl Sindelar, Miss Fielding, ...</td>\n",
       "      <td>The fabled queen of Egypt's affair with Roman ...</td>\n",
       "      <td>5.2</td>\n",
       "      <td>446</td>\n",
       "      <td>$ 45000</td>\n",
       "      <td>NaN</td>\n",
       "      <td>NaN</td>\n",
       "      <td>NaN</td>\n",
       "      <td>25.0</td>\n",
       "      <td>3.0</td>\n",
       "    </tr>\n",
       "    <tr>\n",
       "      <th>4</th>\n",
       "      <td>tt0002130</td>\n",
       "      <td>L'Inferno</td>\n",
       "      <td>L'Inferno</td>\n",
       "      <td>1911</td>\n",
       "      <td>1911-03-06</td>\n",
       "      <td>Adventure, Drama, Fantasy</td>\n",
       "      <td>68</td>\n",
       "      <td>Italy</td>\n",
       "      <td>Italian</td>\n",
       "      <td>Francesco Bertolini, Adolfo Padovan</td>\n",
       "      <td>...</td>\n",
       "      <td>Salvatore Papa, Arturo Pirovano, Giuseppe de L...</td>\n",
       "      <td>Loosely adapted from Dante's Divine Comedy and...</td>\n",
       "      <td>7.0</td>\n",
       "      <td>2237</td>\n",
       "      <td>NaN</td>\n",
       "      <td>NaN</td>\n",
       "      <td>NaN</td>\n",
       "      <td>NaN</td>\n",
       "      <td>31.0</td>\n",
       "      <td>14.0</td>\n",
       "    </tr>\n",
       "  </tbody>\n",
       "</table>\n",
       "<p>5 rows × 22 columns</p>\n",
       "</div>"
      ],
      "text/plain": [
       "  imdb_title_id                        title               original_title  \\\n",
       "0     tt0000009                   Miss Jerry                   Miss Jerry   \n",
       "1     tt0000574  The Story of the Kelly Gang  The Story of the Kelly Gang   \n",
       "2     tt0001892               Den sorte drøm               Den sorte drøm   \n",
       "3     tt0002101                    Cleopatra                    Cleopatra   \n",
       "4     tt0002130                    L'Inferno                    L'Inferno   \n",
       "\n",
       "   year date_published                      genre  duration           country  \\\n",
       "0  1894     1894-10-09                    Romance        45               USA   \n",
       "1  1906     1906-12-26    Biography, Crime, Drama        70         Australia   \n",
       "2  1911     1911-08-19                      Drama        53  Germany, Denmark   \n",
       "3  1912     1912-11-13             Drama, History       100               USA   \n",
       "4  1911     1911-03-06  Adventure, Drama, Fantasy        68             Italy   \n",
       "\n",
       "  language                             director  ...  \\\n",
       "0     None                      Alexander Black  ...   \n",
       "1     None                         Charles Tait  ...   \n",
       "2      NaN                            Urban Gad  ...   \n",
       "3  English                   Charles L. Gaskill  ...   \n",
       "4  Italian  Francesco Bertolini, Adolfo Padovan  ...   \n",
       "\n",
       "                                              actors  \\\n",
       "0  Blanche Bayliss, William Courtenay, Chauncey D...   \n",
       "1  Elizabeth Tait, John Tait, Norman Campbell, Be...   \n",
       "2  Asta Nielsen, Valdemar Psilander, Gunnar Helse...   \n",
       "3  Helen Gardner, Pearl Sindelar, Miss Fielding, ...   \n",
       "4  Salvatore Papa, Arturo Pirovano, Giuseppe de L...   \n",
       "\n",
       "                                         description avg_vote votes   budget  \\\n",
       "0  The adventures of a female reporter in the 1890s.      5.9   154      NaN   \n",
       "1  True story of notorious Australian outlaw Ned ...      6.1   589   $ 2250   \n",
       "2  Two men of high rank are both wooing the beaut...      5.8   188      NaN   \n",
       "3  The fabled queen of Egypt's affair with Roman ...      5.2   446  $ 45000   \n",
       "4  Loosely adapted from Dante's Divine Comedy and...      7.0  2237      NaN   \n",
       "\n",
       "   usa_gross_income worlwide_gross_income metascore reviews_from_users  \\\n",
       "0               NaN                   NaN       NaN                1.0   \n",
       "1               NaN                   NaN       NaN                7.0   \n",
       "2               NaN                   NaN       NaN                5.0   \n",
       "3               NaN                   NaN       NaN               25.0   \n",
       "4               NaN                   NaN       NaN               31.0   \n",
       "\n",
       "   reviews_from_critics  \n",
       "0                   2.0  \n",
       "1                   7.0  \n",
       "2                   2.0  \n",
       "3                   3.0  \n",
       "4                  14.0  \n",
       "\n",
       "[5 rows x 22 columns]"
      ]
     },
     "execution_count": 2,
     "metadata": {},
     "output_type": "execute_result"
    }
   ],
   "source": [
    "# Importando planilha de dados brutos\n",
    "dados_bruto = pd.read_csv('IMDb movies.csv')\n",
    "#Mostrando o dataset inicial\n",
    "dados_bruto.head()"
   ]
  },
  {
   "cell_type": "markdown",
   "metadata": {},
   "source": [
    "<h2>Parte I: Limpeza inicial</h2>"
   ]
  },
  {
   "cell_type": "code",
   "execution_count": 3,
   "metadata": {
    "scrolled": true
   },
   "outputs": [
    {
     "data": {
      "text/html": [
       "<div>\n",
       "<style scoped>\n",
       "    .dataframe tbody tr th:only-of-type {\n",
       "        vertical-align: middle;\n",
       "    }\n",
       "\n",
       "    .dataframe tbody tr th {\n",
       "        vertical-align: top;\n",
       "    }\n",
       "\n",
       "    .dataframe thead th {\n",
       "        text-align: right;\n",
       "    }\n",
       "</style>\n",
       "<table border=\"1\" class=\"dataframe\">\n",
       "  <thead>\n",
       "    <tr style=\"text-align: right;\">\n",
       "      <th></th>\n",
       "      <th>title</th>\n",
       "      <th>year</th>\n",
       "      <th>genre</th>\n",
       "      <th>country</th>\n",
       "      <th>language</th>\n",
       "      <th>worlwide_gross_income</th>\n",
       "      <th>budget</th>\n",
       "      <th>metascore</th>\n",
       "      <th>duration</th>\n",
       "    </tr>\n",
       "  </thead>\n",
       "  <tbody>\n",
       "    <tr>\n",
       "      <th>506</th>\n",
       "      <td>Metropolis</td>\n",
       "      <td>1927</td>\n",
       "      <td>Drama, Sci-Fi</td>\n",
       "      <td>Germany</td>\n",
       "      <td>German</td>\n",
       "      <td>$ 1349711</td>\n",
       "      <td>DEM 6000000</td>\n",
       "      <td>98.0</td>\n",
       "      <td>153</td>\n",
       "    </tr>\n",
       "    <tr>\n",
       "      <th>628</th>\n",
       "      <td>Il circo</td>\n",
       "      <td>1928</td>\n",
       "      <td>Comedy, Romance</td>\n",
       "      <td>USA</td>\n",
       "      <td>English</td>\n",
       "      <td>$ 26916</td>\n",
       "      <td>$ 900000</td>\n",
       "      <td>90.0</td>\n",
       "      <td>72</td>\n",
       "    </tr>\n",
       "    <tr>\n",
       "      <th>1048</th>\n",
       "      <td>Luci della città</td>\n",
       "      <td>1931</td>\n",
       "      <td>Comedy, Drama, Romance</td>\n",
       "      <td>USA</td>\n",
       "      <td>English</td>\n",
       "      <td>$ 46008</td>\n",
       "      <td>$ 1500000</td>\n",
       "      <td>99.0</td>\n",
       "      <td>87</td>\n",
       "    </tr>\n",
       "    <tr>\n",
       "      <th>1086</th>\n",
       "      <td>Frankenstein</td>\n",
       "      <td>1931</td>\n",
       "      <td>Drama, Horror, Romance</td>\n",
       "      <td>USA</td>\n",
       "      <td>English, Latin</td>\n",
       "      <td>$ 1626</td>\n",
       "      <td>$ 291000</td>\n",
       "      <td>91.0</td>\n",
       "      <td>70</td>\n",
       "    </tr>\n",
       "    <tr>\n",
       "      <th>1301</th>\n",
       "      <td>Freaks</td>\n",
       "      <td>1932</td>\n",
       "      <td>Drama, Horror</td>\n",
       "      <td>USA</td>\n",
       "      <td>English, German, French</td>\n",
       "      <td>$ 4072</td>\n",
       "      <td>$ 310607</td>\n",
       "      <td>80.0</td>\n",
       "      <td>64</td>\n",
       "    </tr>\n",
       "    <tr>\n",
       "      <th>...</th>\n",
       "      <td>...</td>\n",
       "      <td>...</td>\n",
       "      <td>...</td>\n",
       "      <td>...</td>\n",
       "      <td>...</td>\n",
       "      <td>...</td>\n",
       "      <td>...</td>\n",
       "      <td>...</td>\n",
       "      <td>...</td>\n",
       "    </tr>\n",
       "    <tr>\n",
       "      <th>85397</th>\n",
       "      <td>Jexi</td>\n",
       "      <td>2019</td>\n",
       "      <td>Comedy, Romance</td>\n",
       "      <td>USA, Canada</td>\n",
       "      <td>English</td>\n",
       "      <td>$ 9341824</td>\n",
       "      <td>$ 5000000</td>\n",
       "      <td>39.0</td>\n",
       "      <td>84</td>\n",
       "    </tr>\n",
       "    <tr>\n",
       "      <th>85460</th>\n",
       "      <td>Weathering with You</td>\n",
       "      <td>2019</td>\n",
       "      <td>Animation, Drama, Family</td>\n",
       "      <td>Japan, China</td>\n",
       "      <td>Japanese</td>\n",
       "      <td>$ 193176979</td>\n",
       "      <td>$ 11100000</td>\n",
       "      <td>72.0</td>\n",
       "      <td>112</td>\n",
       "    </tr>\n",
       "    <tr>\n",
       "      <th>85503</th>\n",
       "      <td>Tommaso</td>\n",
       "      <td>2019</td>\n",
       "      <td>Drama</td>\n",
       "      <td>Italy, UK, USA, Greece</td>\n",
       "      <td>English, Italian, Russian</td>\n",
       "      <td>$ 23588</td>\n",
       "      <td>EUR 3000000</td>\n",
       "      <td>66.0</td>\n",
       "      <td>115</td>\n",
       "    </tr>\n",
       "    <tr>\n",
       "      <th>85592</th>\n",
       "      <td>Quezon's Game</td>\n",
       "      <td>2018</td>\n",
       "      <td>Drama, History</td>\n",
       "      <td>Philippines</td>\n",
       "      <td>English</td>\n",
       "      <td>$ 5986</td>\n",
       "      <td>$ 500000</td>\n",
       "      <td>36.0</td>\n",
       "      <td>127</td>\n",
       "    </tr>\n",
       "    <tr>\n",
       "      <th>85740</th>\n",
       "      <td>Cosa mi lasci di te</td>\n",
       "      <td>2020</td>\n",
       "      <td>Biography, Drama, Music</td>\n",
       "      <td>USA</td>\n",
       "      <td>English</td>\n",
       "      <td>$ 13681524</td>\n",
       "      <td>$ 12000000</td>\n",
       "      <td>41.0</td>\n",
       "      <td>116</td>\n",
       "    </tr>\n",
       "  </tbody>\n",
       "</table>\n",
       "<p>7093 rows × 9 columns</p>\n",
       "</div>"
      ],
      "text/plain": [
       "                     title  year                     genre  \\\n",
       "506             Metropolis  1927             Drama, Sci-Fi   \n",
       "628               Il circo  1928           Comedy, Romance   \n",
       "1048      Luci della città  1931    Comedy, Drama, Romance   \n",
       "1086          Frankenstein  1931    Drama, Horror, Romance   \n",
       "1301                Freaks  1932             Drama, Horror   \n",
       "...                    ...   ...                       ...   \n",
       "85397                 Jexi  2019           Comedy, Romance   \n",
       "85460  Weathering with You  2019  Animation, Drama, Family   \n",
       "85503              Tommaso  2019                     Drama   \n",
       "85592        Quezon's Game  2018            Drama, History   \n",
       "85740  Cosa mi lasci di te  2020   Biography, Drama, Music   \n",
       "\n",
       "                      country                   language  \\\n",
       "506                   Germany                     German   \n",
       "628                       USA                    English   \n",
       "1048                      USA                    English   \n",
       "1086                      USA             English, Latin   \n",
       "1301                      USA    English, German, French   \n",
       "...                       ...                        ...   \n",
       "85397             USA, Canada                    English   \n",
       "85460            Japan, China                   Japanese   \n",
       "85503  Italy, UK, USA, Greece  English, Italian, Russian   \n",
       "85592             Philippines                    English   \n",
       "85740                     USA                    English   \n",
       "\n",
       "      worlwide_gross_income       budget  metascore  duration  \n",
       "506               $ 1349711  DEM 6000000       98.0       153  \n",
       "628                 $ 26916     $ 900000       90.0        72  \n",
       "1048                $ 46008    $ 1500000       99.0        87  \n",
       "1086                 $ 1626     $ 291000       91.0        70  \n",
       "1301                 $ 4072     $ 310607       80.0        64  \n",
       "...                     ...          ...        ...       ...  \n",
       "85397             $ 9341824    $ 5000000       39.0        84  \n",
       "85460           $ 193176979   $ 11100000       72.0       112  \n",
       "85503               $ 23588  EUR 3000000       66.0       115  \n",
       "85592                $ 5986     $ 500000       36.0       127  \n",
       "85740            $ 13681524   $ 12000000       41.0       116  \n",
       "\n",
       "[7093 rows x 9 columns]"
      ]
     },
     "execution_count": 3,
     "metadata": {},
     "output_type": "execute_result"
    }
   ],
   "source": [
    "#Seleção de Colunas relevantes\n",
    "dados = dados_bruto[['title','year', 'genre', 'country', 'language','worlwide_gross_income','budget', 'metascore', 'duration' ]]\n",
    "\n",
    "#Remoção de valores nulos (NaN)\n",
    "dados = dados.dropna()\n",
    "dados"
   ]
  },
  {
   "cell_type": "code",
   "execution_count": 4,
   "metadata": {},
   "outputs": [
    {
     "data": {
      "text/plain": [
       "title                     object\n",
       "year                      object\n",
       "genre                     object\n",
       "country                   object\n",
       "language                  object\n",
       "worlwide_gross_income     object\n",
       "budget                    object\n",
       "metascore                float64\n",
       "duration                   int64\n",
       "dtype: object"
      ]
     },
     "execution_count": 4,
     "metadata": {},
     "output_type": "execute_result"
    }
   ],
   "source": [
    "#analisando o tipo de dados de cada uma das colunas\n",
    "dados.dtypes"
   ]
  },
  {
   "cell_type": "code",
   "execution_count": 5,
   "metadata": {
    "scrolled": true
   },
   "outputs": [
    {
     "data": {
      "text/html": [
       "<div>\n",
       "<style scoped>\n",
       "    .dataframe tbody tr th:only-of-type {\n",
       "        vertical-align: middle;\n",
       "    }\n",
       "\n",
       "    .dataframe tbody tr th {\n",
       "        vertical-align: top;\n",
       "    }\n",
       "\n",
       "    .dataframe thead th {\n",
       "        text-align: right;\n",
       "    }\n",
       "</style>\n",
       "<table border=\"1\" class=\"dataframe\">\n",
       "  <thead>\n",
       "    <tr style=\"text-align: right;\">\n",
       "      <th></th>\n",
       "      <th>title</th>\n",
       "      <th>year</th>\n",
       "      <th>genre</th>\n",
       "      <th>country</th>\n",
       "      <th>language</th>\n",
       "      <th>worlwide_gross_income</th>\n",
       "      <th>budget</th>\n",
       "      <th>metascore</th>\n",
       "      <th>duration</th>\n",
       "    </tr>\n",
       "  </thead>\n",
       "  <tbody>\n",
       "    <tr>\n",
       "      <th>21389</th>\n",
       "      <td>Il gioco del falco</td>\n",
       "      <td>1985</td>\n",
       "      <td>Biography, Crime, Drama</td>\n",
       "      <td>UK, USA, Mexico</td>\n",
       "      <td>English</td>\n",
       "      <td>$ 17130087</td>\n",
       "      <td>$ 12000000</td>\n",
       "      <td>68.0</td>\n",
       "      <td>131</td>\n",
       "    </tr>\n",
       "    <tr>\n",
       "      <th>21425</th>\n",
       "      <td>Godzilla 1985</td>\n",
       "      <td>1985</td>\n",
       "      <td>Action, Horror, Sci-Fi</td>\n",
       "      <td>Japan</td>\n",
       "      <td>Japanese, Russian, English</td>\n",
       "      <td>$ 4116395</td>\n",
       "      <td>$ 2000000</td>\n",
       "      <td>31.0</td>\n",
       "      <td>82</td>\n",
       "    </tr>\n",
       "    <tr>\n",
       "      <th>21784</th>\n",
       "      <td>Fuori orario</td>\n",
       "      <td>1985</td>\n",
       "      <td>Comedy, Crime, Drama</td>\n",
       "      <td>USA</td>\n",
       "      <td>English</td>\n",
       "      <td>$ 10609321</td>\n",
       "      <td>$ 4500000</td>\n",
       "      <td>90.0</td>\n",
       "      <td>97</td>\n",
       "    </tr>\n",
       "    <tr>\n",
       "      <th>21785</th>\n",
       "      <td>Agnese di Dio</td>\n",
       "      <td>1985</td>\n",
       "      <td>Drama, Mystery</td>\n",
       "      <td>USA</td>\n",
       "      <td>English, French, Latin</td>\n",
       "      <td>$ 25627836</td>\n",
       "      <td>$ 10000000</td>\n",
       "      <td>52.0</td>\n",
       "      <td>98</td>\n",
       "    </tr>\n",
       "    <tr>\n",
       "      <th>21795</th>\n",
       "      <td>Guerriero americano</td>\n",
       "      <td>1985</td>\n",
       "      <td>Action, Adventure, Romance</td>\n",
       "      <td>USA, Philippines</td>\n",
       "      <td>English, Spanish, Japanese</td>\n",
       "      <td>$ 10499694</td>\n",
       "      <td>$ 1000000</td>\n",
       "      <td>20.0</td>\n",
       "      <td>95</td>\n",
       "    </tr>\n",
       "  </tbody>\n",
       "</table>\n",
       "</div>"
      ],
      "text/plain": [
       "                     title  year                       genre  \\\n",
       "21389   Il gioco del falco  1985     Biography, Crime, Drama   \n",
       "21425        Godzilla 1985  1985      Action, Horror, Sci-Fi   \n",
       "21784         Fuori orario  1985        Comedy, Crime, Drama   \n",
       "21785        Agnese di Dio  1985              Drama, Mystery   \n",
       "21795  Guerriero americano  1985  Action, Adventure, Romance   \n",
       "\n",
       "                country                    language worlwide_gross_income  \\\n",
       "21389   UK, USA, Mexico                     English            $ 17130087   \n",
       "21425             Japan  Japanese, Russian, English             $ 4116395   \n",
       "21784               USA                     English            $ 10609321   \n",
       "21785               USA      English, French, Latin            $ 25627836   \n",
       "21795  USA, Philippines  English, Spanish, Japanese            $ 10499694   \n",
       "\n",
       "           budget  metascore  duration  \n",
       "21389  $ 12000000       68.0       131  \n",
       "21425   $ 2000000       31.0        82  \n",
       "21784   $ 4500000       90.0        97  \n",
       "21785  $ 10000000       52.0        98  \n",
       "21795   $ 1000000       20.0        95  "
      ]
     },
     "execution_count": 5,
     "metadata": {},
     "output_type": "execute_result"
    }
   ],
   "source": [
    "#Fazendo seleção de uma planilha de treinamento com filmes do ano de 1985 - 2000\n",
    "#Dessa forma minimizamos a depreciação do dinheiro (inflação)\n",
    "\n",
    "#todos dados estão como object, por isso é necessário trocar para os tipos de variáveis adequados\n",
    "dados.year = dados.year.astype('int')\n",
    "dados = dados.loc[(dados.year>=1985) & (dados.year<=2000),:]\n",
    "dados.head()"
   ]
  },
  {
   "cell_type": "code",
   "execution_count": 6,
   "metadata": {},
   "outputs": [],
   "source": [
    "# Selecionando apenas filmes com budget medido em dólar (começa com $) para uniformizar\n",
    "dados = dados.loc[dados.budget.str.startswith('$'),:]\n",
    "\n",
    "#Removendo cifrão da tabela de bilheteria e budget para trabalharmos com float\n",
    "#Removendo vírgulas das colunas de gênero, country e language para guardarmos eles em variáveis adequadas\n",
    "def removepont(text):\n",
    "    cif = '[$,]' \n",
    "    pattern = re.compile(cif)\n",
    "    text_subbed = re.sub(pattern,'', text)\n",
    "    return text_subbed\n",
    "\n",
    "dados.worlwide_gross_income = dados.worlwide_gross_income.apply(removepont)\n",
    "dados.budget = dados.budget.apply(removepont)\n",
    "dados.genre = dados.genre.apply(removepont)\n",
    "dados.country = dados.country.apply(removepont)\n",
    "dados.language = dados.language.apply(removepont)\n",
    "dados.worlwide_gross_income = dados.worlwide_gross_income.astype('float')\n",
    "dados.year = dados.year.astype('int')\n",
    "dados.budget = dados.budget.astype('float')"
   ]
  },
  {
   "cell_type": "code",
   "execution_count": 7,
   "metadata": {
    "scrolled": true
   },
   "outputs": [
    {
     "data": {
      "text/html": [
       "<div>\n",
       "<style scoped>\n",
       "    .dataframe tbody tr th:only-of-type {\n",
       "        vertical-align: middle;\n",
       "    }\n",
       "\n",
       "    .dataframe tbody tr th {\n",
       "        vertical-align: top;\n",
       "    }\n",
       "\n",
       "    .dataframe thead th {\n",
       "        text-align: right;\n",
       "    }\n",
       "</style>\n",
       "<table border=\"1\" class=\"dataframe\">\n",
       "  <thead>\n",
       "    <tr style=\"text-align: right;\">\n",
       "      <th></th>\n",
       "      <th>title</th>\n",
       "      <th>year</th>\n",
       "      <th>genre</th>\n",
       "      <th>country</th>\n",
       "      <th>language</th>\n",
       "      <th>worlwide_gross_income</th>\n",
       "      <th>budget</th>\n",
       "      <th>metascore</th>\n",
       "      <th>duration</th>\n",
       "    </tr>\n",
       "  </thead>\n",
       "  <tbody>\n",
       "    <tr>\n",
       "      <th>21389</th>\n",
       "      <td>Il gioco del falco</td>\n",
       "      <td>1985</td>\n",
       "      <td>Biography Crime Drama</td>\n",
       "      <td>UK USA Mexico</td>\n",
       "      <td>English</td>\n",
       "      <td>17130087.0</td>\n",
       "      <td>12000000.0</td>\n",
       "      <td>68.0</td>\n",
       "      <td>131</td>\n",
       "    </tr>\n",
       "    <tr>\n",
       "      <th>21425</th>\n",
       "      <td>Godzilla 1985</td>\n",
       "      <td>1985</td>\n",
       "      <td>Action Horror Sci-Fi</td>\n",
       "      <td>Japan</td>\n",
       "      <td>Japanese Russian English</td>\n",
       "      <td>4116395.0</td>\n",
       "      <td>2000000.0</td>\n",
       "      <td>31.0</td>\n",
       "      <td>82</td>\n",
       "    </tr>\n",
       "    <tr>\n",
       "      <th>21784</th>\n",
       "      <td>Fuori orario</td>\n",
       "      <td>1985</td>\n",
       "      <td>Comedy Crime Drama</td>\n",
       "      <td>USA</td>\n",
       "      <td>English</td>\n",
       "      <td>10609321.0</td>\n",
       "      <td>4500000.0</td>\n",
       "      <td>90.0</td>\n",
       "      <td>97</td>\n",
       "    </tr>\n",
       "    <tr>\n",
       "      <th>21785</th>\n",
       "      <td>Agnese di Dio</td>\n",
       "      <td>1985</td>\n",
       "      <td>Drama Mystery</td>\n",
       "      <td>USA</td>\n",
       "      <td>English French Latin</td>\n",
       "      <td>25627836.0</td>\n",
       "      <td>10000000.0</td>\n",
       "      <td>52.0</td>\n",
       "      <td>98</td>\n",
       "    </tr>\n",
       "    <tr>\n",
       "      <th>21795</th>\n",
       "      <td>Guerriero americano</td>\n",
       "      <td>1985</td>\n",
       "      <td>Action Adventure Romance</td>\n",
       "      <td>USA Philippines</td>\n",
       "      <td>English Spanish Japanese</td>\n",
       "      <td>10499694.0</td>\n",
       "      <td>1000000.0</td>\n",
       "      <td>20.0</td>\n",
       "      <td>95</td>\n",
       "    </tr>\n",
       "  </tbody>\n",
       "</table>\n",
       "</div>"
      ],
      "text/plain": [
       "                     title  year                     genre          country  \\\n",
       "21389   Il gioco del falco  1985     Biography Crime Drama    UK USA Mexico   \n",
       "21425        Godzilla 1985  1985      Action Horror Sci-Fi            Japan   \n",
       "21784         Fuori orario  1985        Comedy Crime Drama              USA   \n",
       "21785        Agnese di Dio  1985             Drama Mystery              USA   \n",
       "21795  Guerriero americano  1985  Action Adventure Romance  USA Philippines   \n",
       "\n",
       "                       language  worlwide_gross_income      budget  metascore  \\\n",
       "21389                   English             17130087.0  12000000.0       68.0   \n",
       "21425  Japanese Russian English              4116395.0   2000000.0       31.0   \n",
       "21784                   English             10609321.0   4500000.0       90.0   \n",
       "21785      English French Latin             25627836.0  10000000.0       52.0   \n",
       "21795  English Spanish Japanese             10499694.0   1000000.0       20.0   \n",
       "\n",
       "       duration  \n",
       "21389       131  \n",
       "21425        82  \n",
       "21784        97  \n",
       "21785        98  \n",
       "21795        95  "
      ]
     },
     "execution_count": 7,
     "metadata": {},
     "output_type": "execute_result"
    }
   ],
   "source": [
    "#Verificando estado atual da base de dados\n",
    "dados.head(5)"
   ]
  },
  {
   "cell_type": "code",
   "execution_count": 8,
   "metadata": {},
   "outputs": [
    {
     "data": {
      "text/html": [
       "<div>\n",
       "<style scoped>\n",
       "    .dataframe tbody tr th:only-of-type {\n",
       "        vertical-align: middle;\n",
       "    }\n",
       "\n",
       "    .dataframe tbody tr th {\n",
       "        vertical-align: top;\n",
       "    }\n",
       "\n",
       "    .dataframe thead th {\n",
       "        text-align: right;\n",
       "    }\n",
       "</style>\n",
       "<table border=\"1\" class=\"dataframe\">\n",
       "  <thead>\n",
       "    <tr style=\"text-align: right;\">\n",
       "      <th></th>\n",
       "      <th>title</th>\n",
       "      <th>year</th>\n",
       "      <th>genre</th>\n",
       "      <th>country</th>\n",
       "      <th>language</th>\n",
       "      <th>worlwide_gross_income</th>\n",
       "      <th>budget</th>\n",
       "      <th>metascore</th>\n",
       "      <th>duration</th>\n",
       "      <th>drama</th>\n",
       "      <th>comedy</th>\n",
       "      <th>action</th>\n",
       "    </tr>\n",
       "  </thead>\n",
       "  <tbody>\n",
       "    <tr>\n",
       "      <th>21389</th>\n",
       "      <td>Il gioco del falco</td>\n",
       "      <td>1985</td>\n",
       "      <td>Biography Crime Drama</td>\n",
       "      <td>UK USA Mexico</td>\n",
       "      <td>English</td>\n",
       "      <td>17130087.0</td>\n",
       "      <td>12000000.0</td>\n",
       "      <td>68.0</td>\n",
       "      <td>131</td>\n",
       "      <td>0</td>\n",
       "      <td>0</td>\n",
       "      <td>0</td>\n",
       "    </tr>\n",
       "    <tr>\n",
       "      <th>21425</th>\n",
       "      <td>Godzilla 1985</td>\n",
       "      <td>1985</td>\n",
       "      <td>Action Horror Sci-Fi</td>\n",
       "      <td>Japan</td>\n",
       "      <td>Japanese Russian English</td>\n",
       "      <td>4116395.0</td>\n",
       "      <td>2000000.0</td>\n",
       "      <td>31.0</td>\n",
       "      <td>82</td>\n",
       "      <td>0</td>\n",
       "      <td>0</td>\n",
       "      <td>0</td>\n",
       "    </tr>\n",
       "    <tr>\n",
       "      <th>21784</th>\n",
       "      <td>Fuori orario</td>\n",
       "      <td>1985</td>\n",
       "      <td>Comedy Crime Drama</td>\n",
       "      <td>USA</td>\n",
       "      <td>English</td>\n",
       "      <td>10609321.0</td>\n",
       "      <td>4500000.0</td>\n",
       "      <td>90.0</td>\n",
       "      <td>97</td>\n",
       "      <td>0</td>\n",
       "      <td>0</td>\n",
       "      <td>0</td>\n",
       "    </tr>\n",
       "    <tr>\n",
       "      <th>21785</th>\n",
       "      <td>Agnese di Dio</td>\n",
       "      <td>1985</td>\n",
       "      <td>Drama Mystery</td>\n",
       "      <td>USA</td>\n",
       "      <td>English French Latin</td>\n",
       "      <td>25627836.0</td>\n",
       "      <td>10000000.0</td>\n",
       "      <td>52.0</td>\n",
       "      <td>98</td>\n",
       "      <td>0</td>\n",
       "      <td>0</td>\n",
       "      <td>0</td>\n",
       "    </tr>\n",
       "    <tr>\n",
       "      <th>21795</th>\n",
       "      <td>Guerriero americano</td>\n",
       "      <td>1985</td>\n",
       "      <td>Action Adventure Romance</td>\n",
       "      <td>USA Philippines</td>\n",
       "      <td>English Spanish Japanese</td>\n",
       "      <td>10499694.0</td>\n",
       "      <td>1000000.0</td>\n",
       "      <td>20.0</td>\n",
       "      <td>95</td>\n",
       "      <td>0</td>\n",
       "      <td>0</td>\n",
       "      <td>0</td>\n",
       "    </tr>\n",
       "    <tr>\n",
       "      <th>...</th>\n",
       "      <td>...</td>\n",
       "      <td>...</td>\n",
       "      <td>...</td>\n",
       "      <td>...</td>\n",
       "      <td>...</td>\n",
       "      <td>...</td>\n",
       "      <td>...</td>\n",
       "      <td>...</td>\n",
       "      <td>...</td>\n",
       "      <td>...</td>\n",
       "      <td>...</td>\n",
       "      <td>...</td>\n",
       "    </tr>\n",
       "    <tr>\n",
       "      <th>38782</th>\n",
       "      <td>Digimon - Il film</td>\n",
       "      <td>2000</td>\n",
       "      <td>Animation Action Adventure</td>\n",
       "      <td>USA Japan</td>\n",
       "      <td>English</td>\n",
       "      <td>16643191.0</td>\n",
       "      <td>5000000.0</td>\n",
       "      <td>20.0</td>\n",
       "      <td>82</td>\n",
       "      <td>0</td>\n",
       "      <td>0</td>\n",
       "      <td>0</td>\n",
       "    </tr>\n",
       "    <tr>\n",
       "      <th>38798</th>\n",
       "      <td>Roozi ke zan shodam</td>\n",
       "      <td>2000</td>\n",
       "      <td>Comedy Drama</td>\n",
       "      <td>Iran</td>\n",
       "      <td>Persian</td>\n",
       "      <td>149971.0</td>\n",
       "      <td>180000.0</td>\n",
       "      <td>84.0</td>\n",
       "      <td>78</td>\n",
       "      <td>0</td>\n",
       "      <td>0</td>\n",
       "      <td>0</td>\n",
       "    </tr>\n",
       "    <tr>\n",
       "      <th>38898</th>\n",
       "      <td>George Washington</td>\n",
       "      <td>2000</td>\n",
       "      <td>Drama</td>\n",
       "      <td>USA</td>\n",
       "      <td>English</td>\n",
       "      <td>283846.0</td>\n",
       "      <td>42000.0</td>\n",
       "      <td>82.0</td>\n",
       "      <td>89</td>\n",
       "      <td>0</td>\n",
       "      <td>0</td>\n",
       "      <td>0</td>\n",
       "    </tr>\n",
       "    <tr>\n",
       "      <th>39130</th>\n",
       "      <td>Battle Royale</td>\n",
       "      <td>2000</td>\n",
       "      <td>Action Adventure Drama</td>\n",
       "      <td>Japan</td>\n",
       "      <td>Japanese</td>\n",
       "      <td>958989.0</td>\n",
       "      <td>4500000.0</td>\n",
       "      <td>81.0</td>\n",
       "      <td>114</td>\n",
       "      <td>0</td>\n",
       "      <td>0</td>\n",
       "      <td>0</td>\n",
       "    </tr>\n",
       "    <tr>\n",
       "      <th>41198</th>\n",
       "      <td>La locanda della felicità</td>\n",
       "      <td>2000</td>\n",
       "      <td>Comedy Drama Romance</td>\n",
       "      <td>China</td>\n",
       "      <td>Mandarin</td>\n",
       "      <td>361000.0</td>\n",
       "      <td>1900000.0</td>\n",
       "      <td>63.0</td>\n",
       "      <td>102</td>\n",
       "      <td>0</td>\n",
       "      <td>0</td>\n",
       "      <td>0</td>\n",
       "    </tr>\n",
       "  </tbody>\n",
       "</table>\n",
       "<p>1556 rows × 12 columns</p>\n",
       "</div>"
      ],
      "text/plain": [
       "                           title  year                       genre  \\\n",
       "21389         Il gioco del falco  1985       Biography Crime Drama   \n",
       "21425              Godzilla 1985  1985        Action Horror Sci-Fi   \n",
       "21784               Fuori orario  1985          Comedy Crime Drama   \n",
       "21785              Agnese di Dio  1985               Drama Mystery   \n",
       "21795        Guerriero americano  1985    Action Adventure Romance   \n",
       "...                          ...   ...                         ...   \n",
       "38782          Digimon - Il film  2000  Animation Action Adventure   \n",
       "38798        Roozi ke zan shodam  2000                Comedy Drama   \n",
       "38898          George Washington  2000                       Drama   \n",
       "39130              Battle Royale  2000      Action Adventure Drama   \n",
       "41198  La locanda della felicità  2000        Comedy Drama Romance   \n",
       "\n",
       "               country                  language  worlwide_gross_income  \\\n",
       "21389    UK USA Mexico                   English             17130087.0   \n",
       "21425            Japan  Japanese Russian English              4116395.0   \n",
       "21784              USA                   English             10609321.0   \n",
       "21785              USA      English French Latin             25627836.0   \n",
       "21795  USA Philippines  English Spanish Japanese             10499694.0   \n",
       "...                ...                       ...                    ...   \n",
       "38782        USA Japan                   English             16643191.0   \n",
       "38798             Iran                   Persian               149971.0   \n",
       "38898              USA                   English               283846.0   \n",
       "39130            Japan                  Japanese               958989.0   \n",
       "41198            China                  Mandarin               361000.0   \n",
       "\n",
       "           budget  metascore  duration  drama  comedy  action  \n",
       "21389  12000000.0       68.0       131      0       0       0  \n",
       "21425   2000000.0       31.0        82      0       0       0  \n",
       "21784   4500000.0       90.0        97      0       0       0  \n",
       "21785  10000000.0       52.0        98      0       0       0  \n",
       "21795   1000000.0       20.0        95      0       0       0  \n",
       "...           ...        ...       ...    ...     ...     ...  \n",
       "38782   5000000.0       20.0        82      0       0       0  \n",
       "38798    180000.0       84.0        78      0       0       0  \n",
       "38898     42000.0       82.0        89      0       0       0  \n",
       "39130   4500000.0       81.0       114      0       0       0  \n",
       "41198   1900000.0       63.0       102      0       0       0  \n",
       "\n",
       "[1556 rows x 12 columns]"
      ]
     },
     "execution_count": 8,
     "metadata": {},
     "output_type": "execute_result"
    }
   ],
   "source": [
    "#criando uma coluna para cada tipo de gênero (selecionamos apenas 3 que consideramos os principais)\n",
    "dados['drama'] = 0\n",
    "dados['comedy'] = 0\n",
    "dados['action'] = 0\n",
    "dados"
   ]
  },
  {
   "cell_type": "code",
   "execution_count": 9,
   "metadata": {},
   "outputs": [],
   "source": [
    "# reindexando as linhas para facilitar trabalho\n",
    "dados.reset_index(inplace=True)"
   ]
  },
  {
   "cell_type": "code",
   "execution_count": 10,
   "metadata": {},
   "outputs": [],
   "source": [
    "#lendo a coluna genre de cada linha e vendo a qual gênero pertence\n",
    "for i in range(len(dados)):\n",
    "    for genre in dados.iloc[i].genre.split():\n",
    "        if genre == 'Drama':\n",
    "            dados.at[i,'drama'] = 1\n",
    "        if genre == 'Comedy':\n",
    "            dados.at[i,'comedy'] = 1\n",
    "        if genre == 'Action':\n",
    "            dados.at[i,'action'] = 1"
   ]
  },
  {
   "cell_type": "code",
   "execution_count": 11,
   "metadata": {
    "scrolled": true
   },
   "outputs": [
    {
     "data": {
      "text/html": [
       "<div>\n",
       "<style scoped>\n",
       "    .dataframe tbody tr th:only-of-type {\n",
       "        vertical-align: middle;\n",
       "    }\n",
       "\n",
       "    .dataframe tbody tr th {\n",
       "        vertical-align: top;\n",
       "    }\n",
       "\n",
       "    .dataframe thead th {\n",
       "        text-align: right;\n",
       "    }\n",
       "</style>\n",
       "<table border=\"1\" class=\"dataframe\">\n",
       "  <thead>\n",
       "    <tr style=\"text-align: right;\">\n",
       "      <th></th>\n",
       "      <th>index</th>\n",
       "      <th>title</th>\n",
       "      <th>year</th>\n",
       "      <th>genre</th>\n",
       "      <th>country</th>\n",
       "      <th>language</th>\n",
       "      <th>worlwide_gross_income</th>\n",
       "      <th>budget</th>\n",
       "      <th>metascore</th>\n",
       "      <th>duration</th>\n",
       "      <th>drama</th>\n",
       "      <th>comedy</th>\n",
       "      <th>action</th>\n",
       "    </tr>\n",
       "  </thead>\n",
       "  <tbody>\n",
       "    <tr>\n",
       "      <th>0</th>\n",
       "      <td>21389</td>\n",
       "      <td>Il gioco del falco</td>\n",
       "      <td>1985</td>\n",
       "      <td>Biography Crime Drama</td>\n",
       "      <td>UK USA Mexico</td>\n",
       "      <td>English</td>\n",
       "      <td>17130087.0</td>\n",
       "      <td>12000000.0</td>\n",
       "      <td>68.0</td>\n",
       "      <td>131</td>\n",
       "      <td>1</td>\n",
       "      <td>0</td>\n",
       "      <td>0</td>\n",
       "    </tr>\n",
       "    <tr>\n",
       "      <th>1</th>\n",
       "      <td>21425</td>\n",
       "      <td>Godzilla 1985</td>\n",
       "      <td>1985</td>\n",
       "      <td>Action Horror Sci-Fi</td>\n",
       "      <td>Japan</td>\n",
       "      <td>Japanese Russian English</td>\n",
       "      <td>4116395.0</td>\n",
       "      <td>2000000.0</td>\n",
       "      <td>31.0</td>\n",
       "      <td>82</td>\n",
       "      <td>0</td>\n",
       "      <td>0</td>\n",
       "      <td>1</td>\n",
       "    </tr>\n",
       "    <tr>\n",
       "      <th>2</th>\n",
       "      <td>21784</td>\n",
       "      <td>Fuori orario</td>\n",
       "      <td>1985</td>\n",
       "      <td>Comedy Crime Drama</td>\n",
       "      <td>USA</td>\n",
       "      <td>English</td>\n",
       "      <td>10609321.0</td>\n",
       "      <td>4500000.0</td>\n",
       "      <td>90.0</td>\n",
       "      <td>97</td>\n",
       "      <td>1</td>\n",
       "      <td>1</td>\n",
       "      <td>0</td>\n",
       "    </tr>\n",
       "    <tr>\n",
       "      <th>3</th>\n",
       "      <td>21785</td>\n",
       "      <td>Agnese di Dio</td>\n",
       "      <td>1985</td>\n",
       "      <td>Drama Mystery</td>\n",
       "      <td>USA</td>\n",
       "      <td>English French Latin</td>\n",
       "      <td>25627836.0</td>\n",
       "      <td>10000000.0</td>\n",
       "      <td>52.0</td>\n",
       "      <td>98</td>\n",
       "      <td>1</td>\n",
       "      <td>0</td>\n",
       "      <td>0</td>\n",
       "    </tr>\n",
       "    <tr>\n",
       "      <th>4</th>\n",
       "      <td>21795</td>\n",
       "      <td>Guerriero americano</td>\n",
       "      <td>1985</td>\n",
       "      <td>Action Adventure Romance</td>\n",
       "      <td>USA Philippines</td>\n",
       "      <td>English Spanish Japanese</td>\n",
       "      <td>10499694.0</td>\n",
       "      <td>1000000.0</td>\n",
       "      <td>20.0</td>\n",
       "      <td>95</td>\n",
       "      <td>0</td>\n",
       "      <td>0</td>\n",
       "      <td>1</td>\n",
       "    </tr>\n",
       "  </tbody>\n",
       "</table>\n",
       "</div>"
      ],
      "text/plain": [
       "   index                title  year                     genre  \\\n",
       "0  21389   Il gioco del falco  1985     Biography Crime Drama   \n",
       "1  21425        Godzilla 1985  1985      Action Horror Sci-Fi   \n",
       "2  21784         Fuori orario  1985        Comedy Crime Drama   \n",
       "3  21785        Agnese di Dio  1985             Drama Mystery   \n",
       "4  21795  Guerriero americano  1985  Action Adventure Romance   \n",
       "\n",
       "           country                  language  worlwide_gross_income  \\\n",
       "0    UK USA Mexico                   English             17130087.0   \n",
       "1            Japan  Japanese Russian English              4116395.0   \n",
       "2              USA                   English             10609321.0   \n",
       "3              USA      English French Latin             25627836.0   \n",
       "4  USA Philippines  English Spanish Japanese             10499694.0   \n",
       "\n",
       "       budget  metascore  duration  drama  comedy  action  \n",
       "0  12000000.0       68.0       131      1       0       0  \n",
       "1   2000000.0       31.0        82      0       0       1  \n",
       "2   4500000.0       90.0        97      1       1       0  \n",
       "3  10000000.0       52.0        98      1       0       0  \n",
       "4   1000000.0       20.0        95      0       0       1  "
      ]
     },
     "execution_count": 11,
     "metadata": {},
     "output_type": "execute_result"
    }
   ],
   "source": [
    "dados.head(5)"
   ]
  },
  {
   "cell_type": "code",
   "execution_count": 12,
   "metadata": {},
   "outputs": [],
   "source": [
    "#Fazendo o mesmo processo para língua e para país de origem\n",
    "#Buscamos diferenciar filmes feitos nos EUA do resto do mundo e filmes em ingles com filmes em língua estrangeiros\n",
    "dados['americano'] = 0\n",
    "dados['em_ingles'] = 0"
   ]
  },
  {
   "cell_type": "code",
   "execution_count": 13,
   "metadata": {},
   "outputs": [],
   "source": [
    "for i in range(len(dados)):\n",
    "    for country in dados.iloc[i].country.split():\n",
    "        if country == 'USA':\n",
    "            dados.at[i,'americano'] = 1\n",
    "            break\n",
    "        else:\n",
    "            dados.at[i,'americano'] = 0\n",
    "    for lang in dados.iloc[i].language.split():\n",
    "        if lang =='English':\n",
    "            dados.at[i,'em_ingles'] = 1\n",
    "            break\n",
    "        else:\n",
    "            dados.at[i,'em_ingles'] = 0"
   ]
  },
  {
   "cell_type": "markdown",
   "metadata": {},
   "source": [
    "<h2>Parte 2: Análise Exploratória</h2>"
   ]
  },
  {
   "cell_type": "markdown",
   "metadata": {},
   "source": [
    "<h3>Analisando Distribuição de Metascore</h3>"
   ]
  },
  {
   "cell_type": "code",
   "execution_count": 14,
   "metadata": {
    "scrolled": true
   },
   "outputs": [
    {
     "data": {
      "image/png": "[encoded data removed]",
      "text/plain": [
       "<Figure size 720x360 with 2 Axes>"
      ]
     },
     "metadata": {
      "needs_background": "light"
     },
     "output_type": "display_data"
    }
   ],
   "source": [
    "# Fazendo análise da distribuição do metascore\n",
    "plt.figure(figsize=(10,5))\n",
    "\n",
    "plt.subplot(121)\n",
    "faixa = np.linspace(0,100,50)\n",
    "plt.hist(dados.metascore,density=True,bins=faixa)\n",
    "plt.xlabel('Metascore')\n",
    "plt.ylabel('Densidade')\n",
    "\n",
    "plt.subplot(122)\n",
    "stats.probplot(dados.metascore,dist='norm',plot=plt)\n",
    "plt.show()"
   ]
  },
  {
   "cell_type": "markdown",
   "metadata": {},
   "source": [
    "Como se pode observar, o metascore tem uma distribuição próxima à normal, apesar de ter caudas mais expressivas"
   ]
  },
  {
   "cell_type": "markdown",
   "metadata": {},
   "source": [
    "<h3> Analisando Correlação Metascore-Duração"
   ]
  },
  {
   "cell_type": "code",
   "execution_count": 15,
   "metadata": {},
   "outputs": [
    {
     "data": {
      "image/png": "[encoded data removed]",
      "text/plain": [
       "<Figure size 432x288 with 1 Axes>"
      ]
     },
     "metadata": {
      "needs_background": "light"
     },
     "output_type": "display_data"
    }
   ],
   "source": [
    "plt.scatter(dados['worlwide_gross_income'], dados.metascore)\n",
    "plt.show()"
   ]
  },
  {
   "cell_type": "code",
   "execution_count": 16,
   "metadata": {},
   "outputs": [],
   "source": [
    "#outlier na coluna de receita mundial\n",
    "dados = dados.loc[dados['worlwide_gross_income']<2000000000,:]"
   ]
  },
  {
   "cell_type": "code",
   "execution_count": null,
   "metadata": {},
   "outputs": [],
   "source": [
    "\n",
    "\n"
   ]
  },
  {
   "cell_type": "code",
   "execution_count": 17,
   "metadata": {
    "scrolled": true
   },
   "outputs": [
    {
     "data": {
      "image/png": "[encoded data removed]",
      "text/plain": [
       "<Figure size 432x288 with 1 Axes>"
      ]
     },
     "metadata": {
      "needs_background": "light"
     },
     "output_type": "display_data"
    }
   ],
   "source": [
    "plt.scatter(dados.budget,dados.metascore)\n",
    "plt.show()"
   ]
  },
  {
   "cell_type": "code",
   "execution_count": 18,
   "metadata": {},
   "outputs": [
    {
     "data": {
      "text/plain": [
       "-0.080842673448128"
      ]
     },
     "execution_count": 18,
     "metadata": {},
     "output_type": "execute_result"
    }
   ],
   "source": [
    "dados.budget.corr(dados.metascore)"
   ]
  },
  {
   "cell_type": "markdown",
   "metadata": {},
   "source": [
    "O orçamento não parece ter um efeito muito grande no metascore."
   ]
  },
  {
   "cell_type": "markdown",
   "metadata": {},
   "source": [
    "<h3>Analisando Para Gêneros Diferentes</h3>"
   ]
  },
  {
   "cell_type": "code",
   "execution_count": 19,
   "metadata": {},
   "outputs": [],
   "source": [
    "filme_acao = dados.loc[dados.action==1]\n",
    "filme_drama = dados.loc[dados.drama==1]\n",
    "filme_comedia = dados.loc[dados.comedy==1]"
   ]
  },
  {
   "cell_type": "code",
   "execution_count": 20,
   "metadata": {},
   "outputs": [
    {
     "data": {
      "image/png": "[encoded data removed]",
      "text/plain": [
       "<Figure size 1440x360 with 3 Axes>"
      ]
     },
     "metadata": {
      "needs_background": "light"
     },
     "output_type": "display_data"
    }
   ],
   "source": [
    "plt.figure(figsize=(20,5))\n",
    "\n",
    "plt.subplot(131)\n",
    "plt.hist(filme_acao.metascore,density=True,bins=faixa)\n",
    "plt.title('Ação')\n",
    "\n",
    "plt.subplot(132)\n",
    "plt.hist(filme_drama.metascore,density=True,bins=faixa)\n",
    "plt.title('Drama')\n",
    "\n",
    "plt.subplot(133)\n",
    "plt.hist(filme_comedia.metascore,density=True,bins=faixa)\n",
    "plt.title('Comédia')\n",
    "\n",
    "plt.show()"
   ]
  },
  {
   "cell_type": "code",
   "execution_count": 21,
   "metadata": {},
   "outputs": [
    {
     "name": "stdout",
     "output_type": "stream",
     "text": [
      "A média do metascore de filmes da categoria drama é 59.54064039408867\n",
      "A média do metascore de filmes da categoria comédia é 52.38563049853372\n",
      "A média do metascore de filmes da categoria ação é 47.50958904109589\n"
     ]
    }
   ],
   "source": [
    "print(f'A média do metascore de filmes da categoria drama é {filme_drama.metascore.mean()}')\n",
    "print(f'A média do metascore de filmes da categoria comédia é {filme_comedia.metascore.mean()}')\n",
    "print(f'A média do metascore de filmes da categoria ação é {filme_acao.metascore.mean()}')"
   ]
  },
  {
   "cell_type": "markdown",
   "metadata": {},
   "source": [
    "<h3>Analisando Para Línguas e Países Diferentes</h3>"
   ]
  },
  {
   "cell_type": "code",
   "execution_count": 22,
   "metadata": {},
   "outputs": [],
   "source": [
    "filme_americano = dados.loc[dados.americano==1]\n",
    "filme_estrangeiro = dados.loc[dados.americano==0]\n",
    "filme_em_ingles = dados.loc[dados.em_ingles==1]\n",
    "filme_sem_ingles = dados.loc[dados.em_ingles==0]"
   ]
  },
  {
   "cell_type": "code",
   "execution_count": 23,
   "metadata": {},
   "outputs": [
    {
     "data": {
      "image/png": "[encoded data removed]",
      "text/plain": [
       "<Figure size 720x720 with 4 Axes>"
      ]
     },
     "metadata": {
      "needs_background": "light"
     },
     "output_type": "display_data"
    }
   ],
   "source": [
    "plt.figure(figsize=(10,10))\n",
    "\n",
    "plt.subplot(221)\n",
    "plt.hist(filme_americano.metascore,density=True,bins=faixa)\n",
    "plt.title('Americano')\n",
    "\n",
    "plt.subplot(222)\n",
    "plt.hist(filme_estrangeiro.metascore,density=True,bins=faixa)\n",
    "plt.title('Estrangeiro')\n",
    "\n",
    "plt.subplot(223)\n",
    "plt.hist(filme_em_ingles.metascore,density=True,bins=faixa)\n",
    "plt.title('Em Inglês')\n",
    "\n",
    "plt.subplot(224)\n",
    "plt.hist(filme_sem_ingles.metascore,density=True,bins=faixa)\n",
    "plt.title('Em língua estrangeira')\n",
    "\n",
    "plt.show()"
   ]
  },
  {
   "cell_type": "code",
   "execution_count": 24,
   "metadata": {},
   "outputs": [
    {
     "name": "stdout",
     "output_type": "stream",
     "text": [
      "A média do metascore de filmes americanos é 53.644917582417584\n",
      "A média do metascore de filmes estrangeiros é 62.57575757575758\n",
      "A média do metascore de filmes em inglês é 53.88539620170268\n",
      "A média do metascore de filmes em língua estrangeira é 72.10714285714286\n"
     ]
    }
   ],
   "source": [
    "print(f'A média do metascore de filmes americanos é {filme_americano.metascore.mean()}')\n",
    "print(f'A média do metascore de filmes estrangeiros é {filme_estrangeiro.metascore.mean()}')\n",
    "print(f'A média do metascore de filmes em inglês é {filme_em_ingles.metascore.mean()}')\n",
    "print(f'A média do metascore de filmes em língua estrangeira é {filme_sem_ingles.metascore.mean()}')"
   ]
  },
  {
   "cell_type": "code",
   "execution_count": 25,
   "metadata": {},
   "outputs": [
    {
     "data": {
      "text/plain": [
       "<matplotlib.collections.PathCollection at 0x22993a387f0>"
      ]
     },
     "execution_count": 25,
     "metadata": {},
     "output_type": "execute_result"
    },
    {
     "data": {
      "image/png": "[encoded data removed]",
      "text/plain": [
       "<Figure size 432x288 with 1 Axes>"
      ]
     },
     "metadata": {
      "needs_background": "light"
     },
     "output_type": "display_data"
    }
   ],
   "source": [
    "plt.scatter(dados.duration, dados.metascore)"
   ]
  },
  {
   "cell_type": "code",
   "execution_count": 26,
   "metadata": {},
   "outputs": [
    {
     "data": {
      "text/plain": [
       "0.27282851451587986"
      ]
     },
     "execution_count": 26,
     "metadata": {},
     "output_type": "execute_result"
    }
   ],
   "source": [
    "dados.duration.corr(dados.metascore)"
   ]
  },
  {
   "cell_type": "code",
   "execution_count": null,
   "metadata": {},
   "outputs": [],
   "source": []
  },
  {
   "cell_type": "code",
   "execution_count": 27,
   "metadata": {},
   "outputs": [
    {
     "data": {
      "text/plain": [
       "<matplotlib.collections.PathCollection at 0x22993bf58e0>"
      ]
     },
     "execution_count": 27,
     "metadata": {},
     "output_type": "execute_result"
    },
    {
     "data": {
      "image/png": "[encoded data removed]",
      "text/plain": [
       "<Figure size 432x288 with 1 Axes>"
      ]
     },
     "metadata": {
      "needs_background": "light"
     },
     "output_type": "display_data"
    }
   ],
   "source": [
    "dados_drama = dados.loc[dados.drama==1,:]\n",
    "\n",
    "plt.scatter(dados_drama.budget, dados_drama.metascore)"
   ]
  },
  {
   "cell_type": "code",
   "execution_count": 28,
   "metadata": {},
   "outputs": [
    {
     "data": {
      "text/plain": [
       "-0.1737394198473818"
      ]
     },
     "execution_count": 28,
     "metadata": {},
     "output_type": "execute_result"
    }
   ],
   "source": [
    "dados_drama.budget.corr(dados_drama.metascore)"
   ]
  },
  {
   "cell_type": "code",
   "execution_count": 29,
   "metadata": {},
   "outputs": [
    {
     "data": {
      "text/plain": [
       "0.057449183996364186"
      ]
     },
     "execution_count": 29,
     "metadata": {},
     "output_type": "execute_result"
    }
   ],
   "source": [
    "dados_ndrama = dados.loc[dados.drama==0,:]\n",
    "dados_ndrama.budget.corr(dados_ndrama.metascore)\n",
    "\n"
   ]
  },
  {
   "cell_type": "code",
   "execution_count": 30,
   "metadata": {},
   "outputs": [],
   "source": [
    "dados_acao = dados.loc[dados.action==1,:]\n",
    "dados_nacao = dados.loc[dados.action==0,:]"
   ]
  },
  {
   "cell_type": "code",
   "execution_count": 31,
   "metadata": {},
   "outputs": [
    {
     "data": {
      "text/plain": [
       "0.10604185893844252"
      ]
     },
     "execution_count": 31,
     "metadata": {},
     "output_type": "execute_result"
    }
   ],
   "source": [
    "dados_acao.budget.corr(dados_acao.metascore)"
   ]
  },
  {
   "cell_type": "code",
   "execution_count": 32,
   "metadata": {},
   "outputs": [
    {
     "data": {
      "text/plain": [
       "-0.08390990689687469"
      ]
     },
     "execution_count": 32,
     "metadata": {},
     "output_type": "execute_result"
    }
   ],
   "source": [
    "dados_nacao.budget.corr(dados_nacao.metascore)"
   ]
  },
  {
   "cell_type": "code",
   "execution_count": 33,
   "metadata": {},
   "outputs": [
    {
     "data": {
      "text/plain": [
       "<seaborn.axisgrid.PairGrid at 0x22993c242b0>"
      ]
     },
     "execution_count": 33,
     "metadata": {},
     "output_type": "execute_result"
    },
    {
     "data": {
      "image/png": "[encoded data removed]",
      "text/plain": [
       "<Figure size 582.375x180 with 3 Axes>"
      ]
     },
     "metadata": {
      "needs_background": "light"
     },
     "output_type": "display_data"
    }
   ],
   "source": [
    "import seaborn as sns\n",
    "sns.pairplot(dados,x_vars=['budget','duration', 'worlwide_gross_income'],y_vars=['metascore'],hue='drama')"
   ]
  },
  {
   "cell_type": "code",
   "execution_count": 34,
   "metadata": {},
   "outputs": [
    {
     "data": {
      "text/plain": [
       "<seaborn.axisgrid.PairGrid at 0x22991aeaee0>"
      ]
     },
     "execution_count": 34,
     "metadata": {},
     "output_type": "execute_result"
    },
    {
     "data": {
      "image/png": "[encoded data removed]",
      "text/plain": [
       "<Figure size 582.375x180 with 3 Axes>"
      ]
     },
     "metadata": {
      "needs_background": "light"
     },
     "output_type": "display_data"
    }
   ],
   "source": [
    "sns.pairplot(dados,x_vars=['budget','duration', 'worlwide_gross_income'],y_vars=['metascore'],hue='action')"
   ]
  },
  {
   "cell_type": "code",
   "execution_count": 35,
   "metadata": {},
   "outputs": [
    {
     "data": {
      "text/plain": [
       "<seaborn.axisgrid.PairGrid at 0x22991d4df70>"
      ]
     },
     "execution_count": 35,
     "metadata": {},
     "output_type": "execute_result"
    },
    {
     "data": {
      "image/png": "[encoded data removed]",
      "text/plain": [
       "<Figure size 587.5x180 with 3 Axes>"
      ]
     },
     "metadata": {
      "needs_background": "light"
     },
     "output_type": "display_data"
    }
   ],
   "source": [
    "sns.pairplot(dados,x_vars=['budget','duration', 'worlwide_gross_income'],y_vars=['metascore'],hue='comedy')"
   ]
  },
  {
   "cell_type": "code",
   "execution_count": 36,
   "metadata": {},
   "outputs": [
    {
     "data": {
      "text/plain": [
       "<seaborn.axisgrid.PairGrid at 0x2299377f700>"
      ]
     },
     "execution_count": 36,
     "metadata": {},
     "output_type": "execute_result"
    },
    {
     "data": {
      "image/png": "[encoded data removed]",
      "text/plain": [
       "<Figure size 598.625x180 with 3 Axes>"
      ]
     },
     "metadata": {
      "needs_background": "light"
     },
     "output_type": "display_data"
    }
   ],
   "source": [
    "sns.pairplot(dados,x_vars=['budget','duration', 'worlwide_gross_income'],y_vars=['metascore'],hue='em_ingles')"
   ]
  },
  {
   "cell_type": "code",
   "execution_count": 37,
   "metadata": {},
   "outputs": [
    {
     "data": {
      "text/plain": [
       "<seaborn.axisgrid.PairGrid at 0x22993876af0>"
      ]
     },
     "execution_count": 37,
     "metadata": {},
     "output_type": "execute_result"
    },
    {
     "data": {
      "image/png": "[encoded data removed]",
      "text/plain": [
       "<Figure size 600.875x180 with 3 Axes>"
      ]
     },
     "metadata": {
      "needs_background": "light"
     },
     "output_type": "display_data"
    }
   ],
   "source": [
    "sns.pairplot(dados,x_vars=['budget','duration', 'worlwide_gross_income'],y_vars=['metascore'],hue='americano')"
   ]
  },
  {
   "cell_type": "code",
   "execution_count": 38,
   "metadata": {},
   "outputs": [
    {
     "data": {
      "text/html": [
       "<div>\n",
       "<style scoped>\n",
       "    .dataframe tbody tr th:only-of-type {\n",
       "        vertical-align: middle;\n",
       "    }\n",
       "\n",
       "    .dataframe tbody tr th {\n",
       "        vertical-align: top;\n",
       "    }\n",
       "\n",
       "    .dataframe thead th {\n",
       "        text-align: right;\n",
       "    }\n",
       "</style>\n",
       "<table border=\"1\" class=\"dataframe\">\n",
       "  <thead>\n",
       "    <tr style=\"text-align: right;\">\n",
       "      <th></th>\n",
       "      <th>index</th>\n",
       "      <th>year</th>\n",
       "      <th>worlwide_gross_income</th>\n",
       "      <th>budget</th>\n",
       "      <th>metascore</th>\n",
       "      <th>duration</th>\n",
       "      <th>drama</th>\n",
       "      <th>comedy</th>\n",
       "      <th>action</th>\n",
       "      <th>americano</th>\n",
       "      <th>em_ingles</th>\n",
       "    </tr>\n",
       "  </thead>\n",
       "  <tbody>\n",
       "    <tr>\n",
       "      <th>index</th>\n",
       "      <td>1.000000</td>\n",
       "      <td>0.965832</td>\n",
       "      <td>0.054125</td>\n",
       "      <td>0.262667</td>\n",
       "      <td>-0.090584</td>\n",
       "      <td>0.026878</td>\n",
       "      <td>0.105556</td>\n",
       "      <td>-0.001379</td>\n",
       "      <td>-0.082589</td>\n",
       "      <td>-0.035643</td>\n",
       "      <td>-0.116656</td>\n",
       "    </tr>\n",
       "    <tr>\n",
       "      <th>year</th>\n",
       "      <td>0.965832</td>\n",
       "      <td>1.000000</td>\n",
       "      <td>0.093252</td>\n",
       "      <td>0.330142</td>\n",
       "      <td>-0.080583</td>\n",
       "      <td>0.055627</td>\n",
       "      <td>0.105310</td>\n",
       "      <td>-0.000222</td>\n",
       "      <td>-0.075098</td>\n",
       "      <td>0.004921</td>\n",
       "      <td>-0.055584</td>\n",
       "    </tr>\n",
       "    <tr>\n",
       "      <th>worlwide_gross_income</th>\n",
       "      <td>0.054125</td>\n",
       "      <td>0.093252</td>\n",
       "      <td>1.000000</td>\n",
       "      <td>0.535079</td>\n",
       "      <td>0.162309</td>\n",
       "      <td>0.236461</td>\n",
       "      <td>-0.119359</td>\n",
       "      <td>-0.054845</td>\n",
       "      <td>0.192611</td>\n",
       "      <td>0.106962</td>\n",
       "      <td>0.054704</td>\n",
       "    </tr>\n",
       "    <tr>\n",
       "      <th>budget</th>\n",
       "      <td>0.262667</td>\n",
       "      <td>0.330142</td>\n",
       "      <td>0.535079</td>\n",
       "      <td>1.000000</td>\n",
       "      <td>-0.080843</td>\n",
       "      <td>0.302360</td>\n",
       "      <td>-0.121682</td>\n",
       "      <td>-0.089462</td>\n",
       "      <td>0.275030</td>\n",
       "      <td>0.140439</td>\n",
       "      <td>0.098066</td>\n",
       "    </tr>\n",
       "    <tr>\n",
       "      <th>metascore</th>\n",
       "      <td>-0.090584</td>\n",
       "      <td>-0.080583</td>\n",
       "      <td>0.162309</td>\n",
       "      <td>-0.080843</td>\n",
       "      <td>1.000000</td>\n",
       "      <td>0.272829</td>\n",
       "      <td>0.305845</td>\n",
       "      <td>-0.088727</td>\n",
       "      <td>-0.203904</td>\n",
       "      <td>-0.119752</td>\n",
       "      <td>-0.133071</td>\n",
       "    </tr>\n",
       "    <tr>\n",
       "      <th>duration</th>\n",
       "      <td>0.026878</td>\n",
       "      <td>0.055627</td>\n",
       "      <td>0.236461</td>\n",
       "      <td>0.302360</td>\n",
       "      <td>0.272829</td>\n",
       "      <td>1.000000</td>\n",
       "      <td>0.386472</td>\n",
       "      <td>-0.342322</td>\n",
       "      <td>0.033355</td>\n",
       "      <td>-0.053490</td>\n",
       "      <td>-0.002383</td>\n",
       "    </tr>\n",
       "    <tr>\n",
       "      <th>drama</th>\n",
       "      <td>0.105556</td>\n",
       "      <td>0.105310</td>\n",
       "      <td>-0.119359</td>\n",
       "      <td>-0.121682</td>\n",
       "      <td>0.305845</td>\n",
       "      <td>0.386472</td>\n",
       "      <td>1.000000</td>\n",
       "      <td>-0.267577</td>\n",
       "      <td>-0.263055</td>\n",
       "      <td>-0.059604</td>\n",
       "      <td>-0.032713</td>\n",
       "    </tr>\n",
       "    <tr>\n",
       "      <th>comedy</th>\n",
       "      <td>-0.001379</td>\n",
       "      <td>-0.000222</td>\n",
       "      <td>-0.054845</td>\n",
       "      <td>-0.089462</td>\n",
       "      <td>-0.088727</td>\n",
       "      <td>-0.342322</td>\n",
       "      <td>-0.267577</td>\n",
       "      <td>1.000000</td>\n",
       "      <td>-0.235707</td>\n",
       "      <td>0.087157</td>\n",
       "      <td>0.051463</td>\n",
       "    </tr>\n",
       "    <tr>\n",
       "      <th>action</th>\n",
       "      <td>-0.082589</td>\n",
       "      <td>-0.075098</td>\n",
       "      <td>0.192611</td>\n",
       "      <td>0.275030</td>\n",
       "      <td>-0.203904</td>\n",
       "      <td>0.033355</td>\n",
       "      <td>-0.263055</td>\n",
       "      <td>-0.235707</td>\n",
       "      <td>1.000000</td>\n",
       "      <td>0.007693</td>\n",
       "      <td>-0.039112</td>\n",
       "    </tr>\n",
       "    <tr>\n",
       "      <th>americano</th>\n",
       "      <td>-0.035643</td>\n",
       "      <td>0.004921</td>\n",
       "      <td>0.106962</td>\n",
       "      <td>0.140439</td>\n",
       "      <td>-0.119752</td>\n",
       "      <td>-0.053490</td>\n",
       "      <td>-0.059604</td>\n",
       "      <td>0.087157</td>\n",
       "      <td>0.007693</td>\n",
       "      <td>1.000000</td>\n",
       "      <td>0.459882</td>\n",
       "    </tr>\n",
       "    <tr>\n",
       "      <th>em_ingles</th>\n",
       "      <td>-0.116656</td>\n",
       "      <td>-0.055584</td>\n",
       "      <td>0.054704</td>\n",
       "      <td>0.098066</td>\n",
       "      <td>-0.133071</td>\n",
       "      <td>-0.002383</td>\n",
       "      <td>-0.032713</td>\n",
       "      <td>0.051463</td>\n",
       "      <td>-0.039112</td>\n",
       "      <td>0.459882</td>\n",
       "      <td>1.000000</td>\n",
       "    </tr>\n",
       "  </tbody>\n",
       "</table>\n",
       "</div>"
      ],
      "text/plain": [
       "                          index      year  worlwide_gross_income    budget  \\\n",
       "index                  1.000000  0.965832               0.054125  0.262667   \n",
       "year                   0.965832  1.000000               0.093252  0.330142   \n",
       "worlwide_gross_income  0.054125  0.093252               1.000000  0.535079   \n",
       "budget                 0.262667  0.330142               0.535079  1.000000   \n",
       "metascore             -0.090584 -0.080583               0.162309 -0.080843   \n",
       "duration               0.026878  0.055627               0.236461  0.302360   \n",
       "drama                  0.105556  0.105310              -0.119359 -0.121682   \n",
       "comedy                -0.001379 -0.000222              -0.054845 -0.089462   \n",
       "action                -0.082589 -0.075098               0.192611  0.275030   \n",
       "americano             -0.035643  0.004921               0.106962  0.140439   \n",
       "em_ingles             -0.116656 -0.055584               0.054704  0.098066   \n",
       "\n",
       "                       metascore  duration     drama    comedy    action  \\\n",
       "index                  -0.090584  0.026878  0.105556 -0.001379 -0.082589   \n",
       "year                   -0.080583  0.055627  0.105310 -0.000222 -0.075098   \n",
       "worlwide_gross_income   0.162309  0.236461 -0.119359 -0.054845  0.192611   \n",
       "budget                 -0.080843  0.302360 -0.121682 -0.089462  0.275030   \n",
       "metascore               1.000000  0.272829  0.305845 -0.088727 -0.203904   \n",
       "duration                0.272829  1.000000  0.386472 -0.342322  0.033355   \n",
       "drama                   0.305845  0.386472  1.000000 -0.267577 -0.263055   \n",
       "comedy                 -0.088727 -0.342322 -0.267577  1.000000 -0.235707   \n",
       "action                 -0.203904  0.033355 -0.263055 -0.235707  1.000000   \n",
       "americano              -0.119752 -0.053490 -0.059604  0.087157  0.007693   \n",
       "em_ingles              -0.133071 -0.002383 -0.032713  0.051463 -0.039112   \n",
       "\n",
       "                       americano  em_ingles  \n",
       "index                  -0.035643  -0.116656  \n",
       "year                    0.004921  -0.055584  \n",
       "worlwide_gross_income   0.106962   0.054704  \n",
       "budget                  0.140439   0.098066  \n",
       "metascore              -0.119752  -0.133071  \n",
       "duration               -0.053490  -0.002383  \n",
       "drama                  -0.059604  -0.032713  \n",
       "comedy                  0.087157   0.051463  \n",
       "action                  0.007693  -0.039112  \n",
       "americano               1.000000   0.459882  \n",
       "em_ingles               0.459882   1.000000  "
      ]
     },
     "execution_count": 38,
     "metadata": {},
     "output_type": "execute_result"
    }
   ],
   "source": [
    "dados.corr()"
   ]
  },
  {
   "cell_type": "code",
   "execution_count": null,
   "metadata": {},
   "outputs": [],
   "source": []
  },
  {
   "cell_type": "code",
   "execution_count": null,
   "metadata": {},
   "outputs": [],
   "source": []
  },
  {
   "cell_type": "code",
   "execution_count": 118,
   "metadata": {},
   "outputs": [],
   "source": [
    "Y = dados['metascore']"
   ]
  },
  {
   "cell_type": "code",
   "execution_count": 119,
   "metadata": {},
   "outputs": [],
   "source": [
    "X = dados[['action', 'drama', 'comedy', 'budget', 'em_ingles', 'americano', 'worlwide_gross_income', 'duration']]\n",
    "#X = dados[['drama', 'duration', 'worlwide_gross_income']]"
   ]
  },
  {
   "cell_type": "code",
   "execution_count": 120,
   "metadata": {},
   "outputs": [
    {
     "name": "stdout",
     "output_type": "stream",
     "text": [
      "(933, 8)\n",
      "(622, 8)\n",
      "(933,)\n",
      "(622,)\n"
     ]
    }
   ],
   "source": [
    "from sklearn.model_selection import train_test_split\n",
    "X_train, X_test, y_train, y_test = train_test_split(X, Y, test_size=0.4, random_state=101)\n",
    "print(X_train.shape)\n",
    "print(X_test.shape)\n",
    "print(y_train.shape)\n",
    "print(y_test.shape)"
   ]
  },
  {
   "cell_type": "code",
   "execution_count": 121,
   "metadata": {},
   "outputs": [
    {
     "data": {
      "text/plain": [
       "LinearRegression()"
      ]
     },
     "execution_count": 121,
     "metadata": {},
     "output_type": "execute_result"
    }
   ],
   "source": [
    "from sklearn.linear_model import LinearRegression\n",
    "model = LinearRegression()\n",
    "model.fit(X_train,y_train)"
   ]
  },
  {
   "cell_type": "code",
   "execution_count": 122,
   "metadata": {},
   "outputs": [
    {
     "name": "stdout",
     "output_type": "stream",
     "text": [
      "54.5457410397148\n"
     ]
    }
   ],
   "source": [
    "print(model.intercept_)"
   ]
  },
  {
   "cell_type": "code",
   "execution_count": 123,
   "metadata": {},
   "outputs": [
    {
     "data": {
      "text/html": [
       "<div>\n",
       "<style scoped>\n",
       "    .dataframe tbody tr th:only-of-type {\n",
       "        vertical-align: middle;\n",
       "    }\n",
       "\n",
       "    .dataframe tbody tr th {\n",
       "        vertical-align: top;\n",
       "    }\n",
       "\n",
       "    .dataframe thead th {\n",
       "        text-align: right;\n",
       "    }\n",
       "</style>\n",
       "<table border=\"1\" class=\"dataframe\">\n",
       "  <thead>\n",
       "    <tr style=\"text-align: right;\">\n",
       "      <th></th>\n",
       "      <th>Coefficient</th>\n",
       "    </tr>\n",
       "  </thead>\n",
       "  <tbody>\n",
       "    <tr>\n",
       "      <th>action</th>\n",
       "      <td>-7.759837e+00</td>\n",
       "    </tr>\n",
       "    <tr>\n",
       "      <th>drama</th>\n",
       "      <td>6.640126e+00</td>\n",
       "    </tr>\n",
       "    <tr>\n",
       "      <th>comedy</th>\n",
       "      <td>-1.563957e+00</td>\n",
       "    </tr>\n",
       "    <tr>\n",
       "      <th>budget</th>\n",
       "      <td>-1.304684e-07</td>\n",
       "    </tr>\n",
       "    <tr>\n",
       "      <th>em_ingles</th>\n",
       "      <td>-1.809778e+01</td>\n",
       "    </tr>\n",
       "    <tr>\n",
       "      <th>americano</th>\n",
       "      <td>-2.618928e+00</td>\n",
       "    </tr>\n",
       "    <tr>\n",
       "      <th>worlwide_gross_income</th>\n",
       "      <td>5.354440e-08</td>\n",
       "    </tr>\n",
       "    <tr>\n",
       "      <th>duration</th>\n",
       "      <td>1.723828e-01</td>\n",
       "    </tr>\n",
       "  </tbody>\n",
       "</table>\n",
       "</div>"
      ],
      "text/plain": [
       "                        Coefficient\n",
       "action                -7.759837e+00\n",
       "drama                  6.640126e+00\n",
       "comedy                -1.563957e+00\n",
       "budget                -1.304684e-07\n",
       "em_ingles             -1.809778e+01\n",
       "americano             -2.618928e+00\n",
       "worlwide_gross_income  5.354440e-08\n",
       "duration               1.723828e-01"
      ]
     },
     "execution_count": 123,
     "metadata": {},
     "output_type": "execute_result"
    }
   ],
   "source": [
    "coeff_parameter = pd.DataFrame(model.coef_,X.columns,columns=['Coefficient'])\n",
    "coeff_parameter"
   ]
  },
  {
   "cell_type": "code",
   "execution_count": 124,
   "metadata": {},
   "outputs": [
    {
     "data": {
      "text/plain": [
       "array([ 52.90232381,  44.95638756,  58.30739307,  55.39144654,\n",
       "        63.7992476 ,  79.13328082,  61.73228778,  48.19239839,\n",
       "        48.76296835,  59.59117809,  40.43072889,  40.23980589,\n",
       "        60.03774987,  46.30444437,  56.35717615,  46.11931112,\n",
       "        56.24949289,  56.51984202,  43.59104846,  58.6402857 ,\n",
       "        55.42682132,  58.95054272,  48.15252502,  55.50860142,\n",
       "        57.07413447,  57.55824535,  37.11932906,  67.84196736,\n",
       "        57.53323802,  52.43571427,  56.33010689,  55.45166134,\n",
       "        47.51585372,  55.60729768,  47.78922336,  50.03717408,\n",
       "        53.70165606,  45.92508015,  50.196742  ,  50.62451758,\n",
       "        52.91278742,  55.28966667,  42.44786398,  75.08914136,\n",
       "        51.92694876,  58.68000311,  55.98423079,  46.47543706,\n",
       "        50.10838398,  56.84393396,  63.74696254,  64.42637616,\n",
       "        65.43601452,  64.03682867,  61.14139169,  55.11396279,\n",
       "        59.33419576,  53.39556097,  62.4029089 ,  51.06012165,\n",
       "        52.69394917,  58.59217711,  62.53094311,  60.69442184,\n",
       "        53.2418725 ,  51.14436113,  52.56652799,  67.16537458,\n",
       "        56.2417394 ,  32.49065231,  48.10378595,  59.82213824,\n",
       "        64.3629606 ,  43.75127506,  53.54013893,  46.29748622,\n",
       "        51.52088951,  49.00108579,  58.1420734 ,  70.51980294,\n",
       "        42.53022777,  59.97235746,  50.70350978,  67.68869296,\n",
       "        46.18171847,  65.3963685 ,  47.82589991,  62.37957145,\n",
       "        58.00864594,  59.98764365,  46.49971494,  55.40947448,\n",
       "        43.56167038,  47.90820146,  43.1664405 ,  48.2906259 ,\n",
       "        53.64868776,  67.83796645,  58.24443773,  55.331553  ,\n",
       "        43.29459038,  57.31965671,  53.36504166,  59.69856202,\n",
       "        41.09775026,  53.18299337,  62.62895212,  54.98931808,\n",
       "        56.65086245,  58.65190664,  49.0833116 ,  64.75689138,\n",
       "        53.3636109 ,  51.32727405,  43.90536314,  59.39000803,\n",
       "        52.10471573,  54.6020489 ,  49.59215261,  62.4596952 ,\n",
       "        53.74935846,  61.21516383,  57.54417277,  50.88930229,\n",
       "        55.80154341,  47.61933256,  59.42885365,  49.3746918 ,\n",
       "        61.99312886,  48.22585468,  60.19341151,  44.14844347,\n",
       "        57.66885868,  55.17214573,  57.38491428,  41.91877716,\n",
       "        66.0449176 ,  46.5488131 ,  49.23211278,  48.40662444,\n",
       "        49.7100754 ,  56.4016808 ,  53.47088061,  59.62467385,\n",
       "        54.48964051,  61.15008197,  66.68450838,  46.57814638,\n",
       "        47.6411154 ,  62.94058805,  49.24869196,  61.79931611,\n",
       "        57.24448112,  62.17241382,  59.50887903,  48.78177682,\n",
       "        46.64787409,  47.99825048,  54.6846209 ,  55.08348027,\n",
       "        38.28335975,  46.89041207,  52.96209967,  60.73062494,\n",
       "        50.18886735,  58.4194029 ,  63.20953253,  61.81882262,\n",
       "        41.33705242,  54.41395184,  56.42546096,  76.57118998,\n",
       "        57.62879027,  50.87386434,  58.68676321,  56.9101205 ,\n",
       "        61.32324232,  63.88808661,  78.6205264 ,  56.22143216,\n",
       "        55.49743172,  61.21856857,  47.9398016 ,  59.70477943,\n",
       "        59.27080348,  43.40656806,  60.39634887,  63.99206361,\n",
       "        42.49693586,  53.16124619,  40.49210331,  49.06668079,\n",
       "        57.94175495,  43.88766541,  51.74112251,  52.36484004,\n",
       "        47.65421531,  55.51026125,  45.28990391,  69.35957091,\n",
       "        49.28816771,  54.33173329,  64.48360248,  48.39229016,\n",
       "        44.697772  ,  76.83940066,  48.52450231,  60.46179154,\n",
       "        53.56254232,  47.89327952,  39.7410225 ,  56.34605958,\n",
       "        62.14247043,  36.93443003,  46.41302813,  58.43981081,\n",
       "        60.53327638,  48.2572951 ,  48.99168666,  59.91237858,\n",
       "        55.16961068,  61.30574925,  49.35464785,  71.2316695 ,\n",
       "        58.17817295,  52.7047769 ,  57.57398612,  61.44383624,\n",
       "        51.57521099,  56.74585894,  61.81925824,  49.37587492,\n",
       "        54.21516091,  56.07751769,  53.35947724,  48.24555114,\n",
       "        40.57766925,  49.7339363 ,  49.43159861,  73.69210711,\n",
       "        34.18500739,  69.58311181,  54.69280787,  60.48583866,\n",
       "        70.58611336,  63.04711202,  52.42428216,  45.80788091,\n",
       "        49.38317045,  74.86610348,  38.32061214,  58.11728221,\n",
       "        55.10848056,  48.16602396,  56.76739967,  44.72875886,\n",
       "        57.27202478,  57.63316795,  47.31724605,  54.23433941,\n",
       "        52.59022777,  43.05500032,  58.66144233,  59.58578681,\n",
       "        46.68961529,  60.2681577 ,  52.82073543,  53.30189849,\n",
       "        50.24344693,  57.34193502,  44.43132167,  57.86463771,\n",
       "        42.86965643,  47.0595313 ,  56.6641271 ,  47.72400668,\n",
       "        60.21973127,  47.38889057,  47.09130607,  50.9367266 ,\n",
       "        58.0505095 ,  45.02504006,  59.18263694,  67.79063092,\n",
       "        39.52277777,  46.52730834,  59.33975592,  45.79897223,\n",
       "        49.49128207,  57.25176698,  57.47487121,  55.74358578,\n",
       "        54.68331153,  67.39362553,  46.19069637,  47.36194178,\n",
       "        52.85660312,  48.0250475 ,  76.74185007,  48.22055096,\n",
       "        55.56532686,  44.6574544 ,  51.9019855 ,  50.34882026,\n",
       "        63.96018389,  60.68066688,  46.81536052,  45.01268999,\n",
       "        59.29755342,  85.04681852,  49.40678376,  55.82674145,\n",
       "        51.95676769,  38.60926079,  57.86079836,  61.6936653 ,\n",
       "        53.99981496,  42.89632634,  53.79171372,  46.33900836,\n",
       "        59.18859923,  60.59601599,  64.15220399,  43.69042884,\n",
       "        60.55319397,  43.97455964,  38.96310118,  50.06950162,\n",
       "        57.58472574,  45.94014315,  77.90376391,  49.19327467,\n",
       "        58.08522657,  51.33422016,  59.41793763,  57.40649333,\n",
       "        37.74221328,  55.51893718,  45.40388767,  59.19384791,\n",
       "        63.10998715,  46.00347162,  68.18285991,  56.13776721,\n",
       "        46.63231727,  80.07458802,  45.77070626,  58.22818889,\n",
       "        56.55525261,  72.25885119,  50.78905106,  50.29213326,\n",
       "        66.58621505,  58.30901193,  56.68248351,  67.09602529,\n",
       "        56.26861194,  63.48148665,  56.24414589,  68.08477002,\n",
       "        45.3264446 ,  60.10778279,  41.06534562,  68.93659643,\n",
       "        46.99324031,  58.39688146,  54.36996027,  55.05111436,\n",
       "        50.58750553,  57.85799749,  59.09511895,  58.52642525,\n",
       "        46.76671007,  61.40402315,  64.14654443,  64.70278375,\n",
       "        58.12728374,  49.0571785 ,  50.43875365,  39.29582283,\n",
       "        43.71457953,  57.85999746,  48.42138562,  60.79431067,\n",
       "        74.20997954,  88.47021331,  70.90790092,  45.97785271,\n",
       "        40.08375995,  49.56894777,  59.65172676,  43.38157057,\n",
       "        49.36124607,  60.99307277,  37.56338412,  53.5445557 ,\n",
       "        64.11736538,  58.48186322,  48.70780089,  69.08845662,\n",
       "        46.5617779 ,  47.2946334 ,  50.6429497 ,  55.7082586 ,\n",
       "        65.78703994,  45.87583521,  54.38089663,  62.29269383,\n",
       "        57.54884417,  60.61144418,  58.36662103,  53.70603815,\n",
       "        51.36503025, 101.6261549 ,  59.92259918,  55.98222381,\n",
       "        51.64312498,  40.71325185,  55.9035843 ,  65.43803644,\n",
       "        68.61335623,  68.33062939,  58.78065782,  39.02274486,\n",
       "        58.29983945,  51.62280911,  47.36410936,  53.64297999,\n",
       "        35.25910304,  58.28707405,  74.27476347,  49.90926499,\n",
       "        49.16809374,  48.10269255,  57.59947301,  40.67271336,\n",
       "        57.18625723,  64.88548381,  53.0560182 ,  48.72266398,\n",
       "        53.42508137,  65.82013017,  56.53367025,  50.00593046,\n",
       "        58.08234039,  58.24583509,  61.87714018,  61.10743941,\n",
       "        52.34580624,  38.83285622,  54.6319082 ,  55.6522078 ,\n",
       "        61.22997783,  43.17999759,  64.52424387,  46.70707173,\n",
       "        46.4672173 ,  38.65246733,  57.87388024,  34.86105992,\n",
       "        55.67175507,  60.85769739,  47.79990257,  46.61664181,\n",
       "        42.96854571,  46.83592987,  54.36843789,  59.05814147,\n",
       "        50.57547404,  61.72154463,  57.10988624,  49.94251581,\n",
       "        94.08714891,  61.48778755,  57.45563275,  40.13484591,\n",
       "        49.76324158,  53.06164697,  57.73677429,  50.73818274,\n",
       "        89.50392424,  49.97382459,  60.8984225 ,  62.58929897,\n",
       "        39.30703002,  53.52656352,  48.34418914,  62.97457957,\n",
       "        48.32174036,  51.56757434,  61.80635133,  59.49014368,\n",
       "        54.46443597,  63.07357444,  54.38062189,  60.04906478,\n",
       "        52.03049413,  62.84590481,  52.62566622,  58.01262383,\n",
       "        62.1190407 ,  59.86983988,  58.14108611,  63.6531597 ,\n",
       "        68.98064697,  56.26522962,  46.81017526,  48.57147977,\n",
       "        46.2092469 ,  45.18716888,  53.54550089,  63.15897744,\n",
       "        53.76588494,  55.64620379,  49.29779751,  50.99645646,\n",
       "        48.35111932,  57.76921825,  42.32048036,  56.73521011,\n",
       "        48.815071  ,  57.7295453 ,  57.91876435,  62.48125377,\n",
       "        48.73692696,  50.777027  ,  60.24411591,  54.19684349,\n",
       "        54.71593604,  57.09205007,  50.0186086 ,  88.59141779,\n",
       "        76.36188532,  52.46007777,  54.86068526,  49.79839716,\n",
       "        60.39916527,  43.7991244 ,  40.62484985,  44.81238539,\n",
       "        80.57801771,  51.82404965,  53.72263942,  64.70089462,\n",
       "        59.6943277 ,  51.64246593,  50.52483895,  48.5280423 ,\n",
       "        56.37199548,  39.6000615 ,  62.39825664,  65.63795501,\n",
       "        56.20580384,  61.60532536,  35.85022018,  64.28701382,\n",
       "        50.84037854,  54.30689043,  49.4149189 ,  53.24017784,\n",
       "        58.87565729,  54.87324918,  48.13496314,  42.78888152,\n",
       "        61.62690105,  71.45951071,  54.29340551,  48.7621814 ,\n",
       "        49.57524902,  54.34751264,  41.29386438,  60.02154497,\n",
       "        47.75459048,  50.61150041,  50.8080287 ,  53.15028452,\n",
       "        56.61861486,  62.26679426,  43.02060682,  77.20380275,\n",
       "        45.08491459,  44.88103196,  59.01444867,  40.0133674 ,\n",
       "        38.39529191,  52.97176798,  76.07288624,  59.31333923,\n",
       "        47.15321343,  49.65985678,  95.09430615,  61.61900005,\n",
       "        62.17273431,  49.22502812,  57.71962703,  62.6103326 ,\n",
       "        58.95898725,  49.90057505,  41.22535943,  39.16337857,\n",
       "        42.60622366,  61.08835578,  55.37581661,  61.42484641,\n",
       "        61.72278685,  58.61644864,  50.92685913,  58.87686675,\n",
       "        45.56725466,  46.85962231,  53.03594964,  49.39907242,\n",
       "        52.7863921 ,  55.23753461,  47.58801069,  43.17871036,\n",
       "        57.75275168,  50.195248  ,  55.41416786,  41.27016511,\n",
       "        63.22870561,  41.72131855])"
      ]
     },
     "execution_count": 124,
     "metadata": {},
     "output_type": "execute_result"
    }
   ],
   "source": [
    "predictions = model.predict(X_test)\n",
    "predictions"
   ]
  },
  {
   "cell_type": "code",
   "execution_count": 125,
   "metadata": {},
   "outputs": [
    {
     "data": {
      "text/plain": [
       "<matplotlib.axes._subplots.AxesSubplot at 0x2299c72c6a0>"
      ]
     },
     "execution_count": 125,
     "metadata": {},
     "output_type": "execute_result"
    },
    {
     "data": {
      "image/png": "[encoded data removed]",
      "text/plain": [
       "<Figure size 432x288 with 1 Axes>"
      ]
     },
     "metadata": {
      "needs_background": "light"
     },
     "output_type": "display_data"
    }
   ],
   "source": [
    "sns.regplot(y_test,predictions)"
   ]
  },
  {
   "cell_type": "code",
   "execution_count": 126,
   "metadata": {},
   "outputs": [
    {
     "name": "stdout",
     "output_type": "stream",
     "text": [
      "                            OLS Regression Results                            \n",
      "==============================================================================\n",
      "Dep. Variable:              metascore   R-squared:                       0.236\n",
      "Model:                            OLS   Adj. R-squared:                  0.229\n",
      "Method:                 Least Squares   F-statistic:                     35.65\n",
      "Date:                Wed, 02 Jun 2021   Prob (F-statistic):           2.35e-49\n",
      "Time:                        20:49:20   Log-Likelihood:                -3899.5\n",
      "No. Observations:                 933   AIC:                             7817.\n",
      "Df Residuals:                     924   BIC:                             7861.\n",
      "Df Model:                           8                                         \n",
      "Covariance Type:            nonrobust                                         \n",
      "=========================================================================================\n",
      "                            coef    std err          t      P>|t|      [0.025      0.975]\n",
      "-----------------------------------------------------------------------------------------\n",
      "const                    54.5457      5.760      9.470      0.000      43.242      65.850\n",
      "action                   -7.7598      1.392     -5.576      0.000     -10.491      -5.029\n",
      "drama                     6.6401      1.260      5.270      0.000       4.167       9.113\n",
      "comedy                   -1.5640      1.192     -1.312      0.190      -3.904       0.776\n",
      "budget                -1.305e-07   2.42e-08     -5.393      0.000   -1.78e-07    -8.3e-08\n",
      "em_ingles               -18.0978      4.850     -3.732      0.000     -27.616      -8.580\n",
      "americano                -2.6189      2.441     -1.073      0.284      -7.409       2.171\n",
      "worlwide_gross_income  5.354e-08    6.1e-09      8.776      0.000    4.16e-08    6.55e-08\n",
      "duration                  0.1724      0.034      5.116      0.000       0.106       0.239\n",
      "==============================================================================\n",
      "Omnibus:                       12.795   Durbin-Watson:                   2.113\n",
      "Prob(Omnibus):                  0.002   Jarque-Bera (JB):               12.758\n",
      "Skew:                          -0.263   Prob(JB):                      0.00170\n",
      "Kurtosis:                       2.775   Cond. No.                     1.66e+09\n",
      "==============================================================================\n",
      "\n",
      "Warnings:\n",
      "[1] Standard Errors assume that the covariance matrix of the errors is correctly specified.\n",
      "[2] The condition number is large, 1.66e+09. This might indicate that there are\n",
      "strong multicollinearity or other numerical problems.\n"
     ]
    }
   ],
   "source": [
    "X_train_Sm= sm.add_constant(X_train)\n",
    "X_train_Sm= sm.add_constant(X_train)\n",
    "ls=sm.OLS(y_train,X_train_Sm).fit()\n",
    "print(ls.summary())"
   ]
  },
  {
   "cell_type": "code",
   "execution_count": 146,
   "metadata": {},
   "outputs": [
    {
     "name": "stdout",
     "output_type": "stream",
     "text": [
      "(933, 1)\n",
      "(622, 1)\n",
      "(933,)\n",
      "(622,)\n"
     ]
    }
   ],
   "source": [
    "X2 = dados[['duration']]\n",
    "\n",
    "\n",
    "X2_train, X2_test, y2_train, y2_test = train_test_split(X2, Y, test_size=0.4, random_state=101)\n",
    "print(X2_train.shape)\n",
    "print(X2_test.shape)\n",
    "print(y2_train.shape)\n",
    "print(y2_test.shape)"
   ]
  },
  {
   "cell_type": "code",
   "execution_count": 147,
   "metadata": {},
   "outputs": [
    {
     "data": {
      "text/plain": [
       "LinearRegression()"
      ]
     },
     "execution_count": 147,
     "metadata": {},
     "output_type": "execute_result"
    }
   ],
   "source": [
    "model2 = LinearRegression()\n",
    "model2.fit(X2_train,y2_train)"
   ]
  },
  {
   "cell_type": "code",
   "execution_count": 148,
   "metadata": {},
   "outputs": [
    {
     "name": "stdout",
     "output_type": "stream",
     "text": [
      "24.774956706497058\n"
     ]
    }
   ],
   "source": [
    "print(model2.intercept_)"
   ]
  },
  {
   "cell_type": "code",
   "execution_count": 149,
   "metadata": {},
   "outputs": [
    {
     "data": {
      "text/html": [
       "<div>\n",
       "<style scoped>\n",
       "    .dataframe tbody tr th:only-of-type {\n",
       "        vertical-align: middle;\n",
       "    }\n",
       "\n",
       "    .dataframe tbody tr th {\n",
       "        vertical-align: top;\n",
       "    }\n",
       "\n",
       "    .dataframe thead th {\n",
       "        text-align: right;\n",
       "    }\n",
       "</style>\n",
       "<table border=\"1\" class=\"dataframe\">\n",
       "  <thead>\n",
       "    <tr style=\"text-align: right;\">\n",
       "      <th></th>\n",
       "      <th>Coefficient</th>\n",
       "    </tr>\n",
       "  </thead>\n",
       "  <tbody>\n",
       "    <tr>\n",
       "      <th>duration</th>\n",
       "      <td>0.269387</td>\n",
       "    </tr>\n",
       "  </tbody>\n",
       "</table>\n",
       "</div>"
      ],
      "text/plain": [
       "          Coefficient\n",
       "duration     0.269387"
      ]
     },
     "execution_count": 149,
     "metadata": {},
     "output_type": "execute_result"
    }
   ],
   "source": [
    "coeff_parameter = pd.DataFrame(model2.coef_,X2.columns,columns=['Coefficient'])\n",
    "coeff_parameter"
   ]
  },
  {
   "cell_type": "code",
   "execution_count": 150,
   "metadata": {},
   "outputs": [
    {
     "data": {
      "text/plain": [
       "array([46.59529784, 50.0973279 , 50.63610175, 56.83200109, 58.71770958,\n",
       "       60.60341807, 53.59935796, 49.28916712, 56.56261416, 54.67690567,\n",
       "       48.2116194 , 52.79119717, 58.44832265, 60.06464422, 49.28916712,\n",
       "       51.71364946, 54.13813181, 52.25242332, 53.86874488, 54.40751874,\n",
       "       53.32997103, 53.59935796, 50.90548868, 50.90548868, 53.32997103,\n",
       "       55.75445338, 46.86468477, 60.60341807, 51.44426254, 50.36671483,\n",
       "       53.86874488, 48.2116194 , 50.63610175, 50.90548868, 49.01978019,\n",
       "       52.79119717, 55.21567952, 47.67284555, 51.17487561, 54.13813181,\n",
       "       47.40345862, 53.32997103, 50.0973279 , 48.48100633, 50.0973279 ,\n",
       "       56.83200109, 51.17487561, 54.13813181, 51.17487561, 56.83200109,\n",
       "       65.18299584, 51.44426254, 59.79525729, 52.25242332, 53.86874488,\n",
       "       47.40345862, 61.95035271, 47.67284555, 60.06464422, 55.21567952,\n",
       "       53.86874488, 63.8360612 , 60.06464422, 60.33403115, 48.2116194 ,\n",
       "       55.75445338, 51.17487561, 68.14625204, 56.83200109, 53.32997103,\n",
       "       50.0973279 , 57.10138801, 51.44426254, 52.79119717, 47.67284555,\n",
       "       49.55855404, 52.52181025, 54.67690567, 56.29322723, 47.94223248,\n",
       "       49.55855404, 59.25648344, 45.2483632 , 58.44832265, 47.13407169,\n",
       "       54.94629259, 53.59935796, 56.56261416, 57.9095488 , 56.83200109,\n",
       "       49.55855404, 51.17487561, 53.0605841 , 57.10138801, 54.94629259,\n",
       "       49.82794097, 52.52181025, 59.79525729, 58.98709651, 52.79119717,\n",
       "       53.0605841 , 53.59935796, 47.40345862, 56.0238403 , 59.52587036,\n",
       "       60.60341807, 61.41157886, 52.52181025, 51.71364946, 56.56261416,\n",
       "       54.13813181, 62.21973964, 62.21973964, 54.13813181, 53.86874488,\n",
       "       54.40751874, 56.0238403 , 52.52181025, 49.28916712, 61.68096578,\n",
       "       52.25242332, 51.17487561, 60.60341807, 58.44832265, 54.94629259,\n",
       "       52.79119717, 55.48506645, 49.28916712, 63.29728735, 49.82794097,\n",
       "       55.75445338, 53.59935796, 61.41157886, 53.86874488, 51.98303639,\n",
       "       49.82794097, 63.56667428, 46.86468477, 49.28916712, 50.0973279 ,\n",
       "       50.36671483, 53.59935796, 57.64016187, 54.94629259, 49.82794097,\n",
       "       57.10138801, 67.06870433, 47.94223248, 54.67690567, 59.52587036,\n",
       "       50.0973279 , 60.33403115, 55.75445338, 57.64016187, 59.79525729,\n",
       "       50.63610175, 49.55855404, 49.55855404, 48.75039326, 49.82794097,\n",
       "       57.37077494, 61.14219193, 50.63610175, 60.60341807, 50.63610175,\n",
       "       53.0605841 , 59.79525729, 56.0238403 , 53.59935796, 49.01978019,\n",
       "       58.17893572, 49.01978019, 52.52181025, 47.94223248, 60.33403115,\n",
       "       51.71364946, 59.52587036, 66.26054355, 57.64016187, 53.86874488,\n",
       "       51.71364946, 58.44832265, 46.59529784, 56.0238403 , 54.13813181,\n",
       "       51.17487561, 59.25648344, 56.29322723, 53.59935796, 52.52181025,\n",
       "       51.17487561, 50.36671483, 53.59935796, 51.98303639, 52.52181025,\n",
       "       55.21567952, 51.71364946, 51.17487561, 47.40345862, 62.75851349,\n",
       "       48.2116194 , 51.44426254, 58.98709651, 49.01978019, 53.32997103,\n",
       "       62.48912657, 50.36671483, 57.64016187, 60.872805  , 50.63610175,\n",
       "       49.28916712, 52.52181025, 61.68096578, 47.40345862, 58.98709651,\n",
       "       53.0605841 , 57.10138801, 49.55855404, 49.55855404, 56.56261416,\n",
       "       60.872805  , 57.64016187, 45.2483632 , 56.0238403 , 50.36671483,\n",
       "       62.48912657, 53.32997103, 54.94629259, 48.75039326, 53.0605841 ,\n",
       "       61.41157886, 52.25242332, 48.48100633, 58.98709651, 57.10138801,\n",
       "       53.59935796, 50.63610175, 55.48506645, 52.25242332, 59.52587036,\n",
       "       51.71364946, 56.83200109, 49.28916712, 62.75851349, 72.72582981,\n",
       "       49.82794097, 50.0973279 , 52.79119717, 47.94223248, 58.98709651,\n",
       "       51.98303639, 58.71770958, 57.10138801, 56.56261416, 52.25242332,\n",
       "       51.71364946, 56.0238403 , 55.75445338, 53.59935796, 49.28916712,\n",
       "       52.52181025, 57.10138801, 53.59935796, 53.59935796, 52.25242332,\n",
       "       57.10138801, 56.83200109, 50.0973279 , 51.98303639, 53.59935796,\n",
       "       50.36671483, 63.29728735, 48.75039326, 48.75039326, 54.13813181,\n",
       "       49.82794097, 60.872805  , 49.82794097, 50.90548868, 50.90548868,\n",
       "       55.48506645, 56.29322723, 59.52587036, 57.10138801, 49.01978019,\n",
       "       56.0238403 , 52.79119717, 47.40345862, 51.44426254, 51.98303639,\n",
       "       53.0605841 , 51.71364946, 49.82794097, 57.10138801, 53.86874488,\n",
       "       49.01978019, 55.48506645, 51.98303639, 49.01978019, 51.98303639,\n",
       "       53.86874488, 54.13813181, 57.37077494, 50.63610175, 46.59529784,\n",
       "       60.60341807, 48.75039326, 46.86468477, 53.86874488, 63.8360612 ,\n",
       "       52.25242332, 50.90548868, 52.79119717, 51.44426254, 52.25242332,\n",
       "       58.71770958, 56.0238403 , 51.44426254, 54.67690567, 49.82794097,\n",
       "       53.86874488, 57.64016187, 62.48912657, 55.75445338, 57.9095488 ,\n",
       "       53.86874488, 48.48100633, 55.21567952, 54.40751874, 51.71364946,\n",
       "       66.26054355, 49.28916712, 55.21567952, 55.21567952, 54.40751874,\n",
       "       52.52181025, 49.28916712, 51.17487561, 57.64016187, 54.13813181,\n",
       "       63.02790042, 50.36671483, 50.63610175, 50.63610175, 49.01978019,\n",
       "       68.41563897, 47.13407169, 50.90548868, 54.94629259, 63.8360612 ,\n",
       "       50.90548868, 50.90548868, 68.41563897, 56.29322723, 50.36671483,\n",
       "       58.98709651, 53.86874488, 65.45238277, 55.48506645, 67.60747819,\n",
       "       48.2116194 , 51.44426254, 51.71364946, 64.37483506, 50.63610175,\n",
       "       51.71364946, 51.71364946, 57.37077494, 49.28916712, 54.94629259,\n",
       "       54.40751874, 56.56261416, 53.86874488, 58.17893572, 51.44426254,\n",
       "       57.37077494, 53.86874488, 49.55855404, 53.59935796, 53.86874488,\n",
       "       54.13813181, 51.71364946, 48.75039326, 59.52587036, 53.32997103,\n",
       "       77.30540758, 66.52993048, 45.78713706, 51.98303639, 47.67284555,\n",
       "       56.83200109, 50.90548868, 49.28916712, 57.64016187, 46.59529784,\n",
       "       55.75445338, 61.14219193, 53.32997103, 49.01978019, 64.91360891,\n",
       "       50.36671483, 50.0973279 , 55.21567952, 65.99115662, 46.59529784,\n",
       "       48.2116194 , 52.52181025, 52.79119717, 52.25242332, 56.29322723,\n",
       "       54.13813181, 49.01978019, 50.90548868, 48.48100633, 53.59935796,\n",
       "       53.86874488, 58.71770958, 60.872805  , 59.25648344, 61.41157886,\n",
       "       47.40345862, 49.28916712, 56.29322723, 51.98303639, 59.52587036,\n",
       "       46.59529784, 50.36671483, 58.44832265, 46.32591091, 57.37077494,\n",
       "       56.29322723, 50.0973279 , 50.90548868, 55.75445338, 47.13407169,\n",
       "       54.40751874, 55.21567952, 64.10544813, 50.63610175, 51.98303639,\n",
       "       50.90548868, 57.9095488 , 52.52181025, 52.25242332, 54.13813181,\n",
       "       52.79119717, 60.872805  , 53.0605841 , 50.90548868, 47.40345862,\n",
       "       55.21567952, 55.21567952, 59.79525729, 56.0238403 , 47.40345862,\n",
       "       47.94223248, 48.75039326, 52.79119717, 49.82794097, 57.37077494,\n",
       "       50.63610175, 54.94629259, 50.0973279 , 49.82794097, 52.25242332,\n",
       "       58.17893572, 55.48506645, 50.0973279 , 49.55855404, 62.21973964,\n",
       "       50.90548868, 49.01978019, 63.02790042, 62.48912657, 52.25242332,\n",
       "       49.01978019, 51.71364946, 57.37077494, 53.32997103, 49.82794097,\n",
       "       61.41157886, 51.71364946, 56.29322723, 61.41157886, 47.94223248,\n",
       "       49.01978019, 43.36265471, 52.52181025, 54.13813181, 51.98303639,\n",
       "       61.41157886, 57.10138801, 49.28916712, 64.10544813, 49.01978019,\n",
       "       54.67690567, 56.0238403 , 57.37077494, 52.79119717, 55.21567952,\n",
       "       52.25242332, 58.17893572, 57.37077494, 53.86874488, 54.94629259,\n",
       "       50.36671483, 50.0973279 , 47.67284555, 53.86874488, 53.0605841 ,\n",
       "       53.59935796, 59.79525729, 51.17487561, 49.28916712, 48.48100633,\n",
       "       52.79119717, 60.60341807, 53.32997103, 50.90548868, 52.79119717,\n",
       "       54.13813181, 53.32997103, 52.25242332, 58.44832265, 50.36671483,\n",
       "       57.64016187, 55.21567952, 52.52181025, 53.32997103, 50.90548868,\n",
       "       48.2116194 , 66.26054355, 68.14625204, 55.75445338, 49.55855404,\n",
       "       52.52181025, 58.17893572, 49.82794097, 48.48100633, 56.0238403 ,\n",
       "       75.68908602, 55.21567952, 47.67284555, 58.98709651, 57.37077494,\n",
       "       50.36671483, 57.37077494, 47.40345862, 51.71364946, 51.17487561,\n",
       "       53.0605841 , 57.9095488 , 50.0973279 , 62.48912657, 49.28916712,\n",
       "       59.52587036, 54.94629259, 61.68096578, 56.0238403 , 50.90548868,\n",
       "       51.71364946, 54.40751874, 50.63610175, 50.90548868, 57.9095488 ,\n",
       "       59.25648344, 50.63610175, 52.25242332, 50.0973279 , 48.75039326,\n",
       "       49.28916712, 55.21567952, 55.48506645, 57.37077494, 49.82794097,\n",
       "       56.56261416, 53.32997103, 59.52587036, 51.44426254, 50.63610175,\n",
       "       49.55855404, 51.44426254, 53.0605841 , 51.71364946, 49.01978019,\n",
       "       54.67690567, 48.75039326, 54.67690567, 48.2116194 , 48.48100633,\n",
       "       58.98709651, 57.37077494, 56.83200109, 49.82794097, 54.67690567,\n",
       "       56.56261416, 53.0605841 , 56.29322723, 50.63610175, 48.48100633,\n",
       "       51.44426254, 59.25648344, 49.28916712, 57.64016187, 55.21567952,\n",
       "       53.59935796, 51.17487561, 55.21567952, 48.75039326, 51.71364946,\n",
       "       47.40345862, 53.0605841 , 55.21567952, 49.01978019, 49.01978019,\n",
       "       48.48100633, 59.25648344, 52.25242332, 55.48506645, 50.63610175,\n",
       "       63.02790042, 50.0973279 ])"
      ]
     },
     "execution_count": 150,
     "metadata": {},
     "output_type": "execute_result"
    }
   ],
   "source": [
    "predictions2 = model2.predict(X2_test)\n",
    "predictions2"
   ]
  },
  {
   "cell_type": "code",
   "execution_count": 151,
   "metadata": {},
   "outputs": [
    {
     "data": {
      "text/plain": [
       "<matplotlib.axes._subplots.AxesSubplot at 0x229960de9d0>"
      ]
     },
     "execution_count": 151,
     "metadata": {},
     "output_type": "execute_result"
    },
    {
     "data": {
      "image/png": "[encoded data removed]",
      "text/plain": [
       "<Figure size 432x288 with 1 Axes>"
      ]
     },
     "metadata": {
      "needs_background": "light"
     },
     "output_type": "display_data"
    }
   ],
   "source": [
    "sns.regplot(y2_test,predictions2)"
   ]
  },
  {
   "cell_type": "code",
   "execution_count": 152,
   "metadata": {},
   "outputs": [
    {
     "name": "stdout",
     "output_type": "stream",
     "text": [
      "                            OLS Regression Results                            \n",
      "==============================================================================\n",
      "Dep. Variable:              metascore   R-squared:                       0.079\n",
      "Model:                            OLS   Adj. R-squared:                  0.078\n",
      "Method:                 Least Squares   F-statistic:                     80.32\n",
      "Date:                Wed, 02 Jun 2021   Prob (F-statistic):           1.71e-18\n",
      "Time:                        20:55:59   Log-Likelihood:                -3986.4\n",
      "No. Observations:                 933   AIC:                             7977.\n",
      "Df Residuals:                     931   BIC:                             7987.\n",
      "Df Model:                           1                                         \n",
      "Covariance Type:            nonrobust                                         \n",
      "==============================================================================\n",
      "                 coef    std err          t      P>|t|      [0.025      0.975]\n",
      "------------------------------------------------------------------------------\n",
      "const         24.7750      3.304      7.500      0.000      18.292      31.258\n",
      "duration       0.2694      0.030      8.962      0.000       0.210       0.328\n",
      "==============================================================================\n",
      "Omnibus:                       26.706   Durbin-Watson:                   2.117\n",
      "Prob(Omnibus):                  0.000   Jarque-Bera (JB):               16.331\n",
      "Skew:                          -0.173   Prob(JB):                     0.000284\n",
      "Kurtosis:                       2.452   Cond. No.                         638.\n",
      "==============================================================================\n",
      "\n",
      "Warnings:\n",
      "[1] Standard Errors assume that the covariance matrix of the errors is correctly specified.\n"
     ]
    }
   ],
   "source": [
    "X2_train_Sm= sm.add_constant(X2_train)\n",
    "X2_train_Sm= sm.add_constant(X2_train)\n",
    "ls2=sm.OLS(y2_train,X2_train_Sm).fit()\n",
    "print(ls2.summary())"
   ]
  },
  {
   "cell_type": "code",
   "execution_count": 111,
   "metadata": {},
   "outputs": [],
   "source": [
    "import statsmodels.api as sm\n",
    "\n",
    "def regress(Y,X):\n",
    "    '''\n",
    "    Y: coluna do DataFrame utilizada como variável resposta (TARGET)\n",
    "    X: coluna(s) do DataFrame utilizadas como variável(is) explicativas (FEATURES)\n",
    "    '''\n",
    "    X_cp = sm.add_constant(X)\n",
    "    model = sm.OLS(Y,X_cp)\n",
    "    results = model.fit()\n",
    "    \n",
    "    return results"
   ]
  },
  {
   "cell_type": "code",
   "execution_count": 112,
   "metadata": {},
   "outputs": [],
   "source": [
    "#sns.pairplot(dados, height=1.5);"
   ]
  },
  {
   "cell_type": "code",
   "execution_count": 113,
   "metadata": {},
   "outputs": [
    {
     "data": {
      "text/html": [
       "<table class=\"simpletable\">\n",
       "<caption>OLS Regression Results</caption>\n",
       "<tr>\n",
       "  <th>Dep. Variable:</th>        <td>metascore</td>    <th>  R-squared:         </th> <td>   0.230</td> \n",
       "</tr>\n",
       "<tr>\n",
       "  <th>Model:</th>                   <td>OLS</td>       <th>  Adj. R-squared:    </th> <td>   0.226</td> \n",
       "</tr>\n",
       "<tr>\n",
       "  <th>Method:</th>             <td>Least Squares</td>  <th>  F-statistic:       </th> <td>   57.69</td> \n",
       "</tr>\n",
       "<tr>\n",
       "  <th>Date:</th>             <td>Wed, 02 Jun 2021</td> <th>  Prob (F-statistic):</th> <td>1.93e-82</td> \n",
       "</tr>\n",
       "<tr>\n",
       "  <th>Time:</th>                 <td>20:46:45</td>     <th>  Log-Likelihood:    </th> <td> -6515.8</td> \n",
       "</tr>\n",
       "<tr>\n",
       "  <th>No. Observations:</th>      <td>  1555</td>      <th>  AIC:               </th> <td>1.305e+04</td>\n",
       "</tr>\n",
       "<tr>\n",
       "  <th>Df Residuals:</th>          <td>  1546</td>      <th>  BIC:               </th> <td>1.310e+04</td>\n",
       "</tr>\n",
       "<tr>\n",
       "  <th>Df Model:</th>              <td>     8</td>      <th>                     </th>     <td> </td>    \n",
       "</tr>\n",
       "<tr>\n",
       "  <th>Covariance Type:</th>      <td>nonrobust</td>    <th>                     </th>     <td> </td>    \n",
       "</tr>\n",
       "</table>\n",
       "<table class=\"simpletable\">\n",
       "<tr>\n",
       "            <td></td>               <th>coef</th>     <th>std err</th>      <th>t</th>      <th>P>|t|</th>  <th>[0.025</th>    <th>0.975]</th>  \n",
       "</tr>\n",
       "<tr>\n",
       "  <th>const</th>                 <td>   49.4691</td> <td>    4.169</td> <td>   11.866</td> <td> 0.000</td> <td>   41.291</td> <td>   57.647</td>\n",
       "</tr>\n",
       "<tr>\n",
       "  <th>action</th>                <td>   -7.0113</td> <td>    1.084</td> <td>   -6.471</td> <td> 0.000</td> <td>   -9.137</td> <td>   -4.886</td>\n",
       "</tr>\n",
       "<tr>\n",
       "  <th>drama</th>                 <td>    6.9042</td> <td>    0.977</td> <td>    7.068</td> <td> 0.000</td> <td>    4.988</td> <td>    8.820</td>\n",
       "</tr>\n",
       "<tr>\n",
       "  <th>comedy</th>                <td>   -0.0943</td> <td>    0.929</td> <td>   -0.102</td> <td> 0.919</td> <td>   -1.916</td> <td>    1.727</td>\n",
       "</tr>\n",
       "<tr>\n",
       "  <th>budget</th>                <td> -1.48e-07</td> <td> 1.96e-08</td> <td>   -7.549</td> <td> 0.000</td> <td>-1.86e-07</td> <td> -1.1e-07</td>\n",
       "</tr>\n",
       "<tr>\n",
       "  <th>em_ingles</th>             <td>  -14.3752</td> <td>    3.452</td> <td>   -4.164</td> <td> 0.000</td> <td>  -21.147</td> <td>   -7.603</td>\n",
       "</tr>\n",
       "<tr>\n",
       "  <th>americano</th>             <td>   -3.7193</td> <td>    1.900</td> <td>   -1.958</td> <td> 0.050</td> <td>   -7.446</td> <td>    0.008</td>\n",
       "</tr>\n",
       "<tr>\n",
       "  <th>worlwide_gross_income</th> <td> 4.889e-08</td> <td> 4.44e-09</td> <td>   11.011</td> <td> 0.000</td> <td> 4.02e-08</td> <td> 5.76e-08</td>\n",
       "</tr>\n",
       "<tr>\n",
       "  <th>duration</th>              <td>    0.1932</td> <td>    0.027</td> <td>    7.174</td> <td> 0.000</td> <td>    0.140</td> <td>    0.246</td>\n",
       "</tr>\n",
       "</table>\n",
       "<table class=\"simpletable\">\n",
       "<tr>\n",
       "  <th>Omnibus:</th>       <td>21.043</td> <th>  Durbin-Watson:     </th> <td>   2.037</td>\n",
       "</tr>\n",
       "<tr>\n",
       "  <th>Prob(Omnibus):</th> <td> 0.000</td> <th>  Jarque-Bera (JB):  </th> <td>  19.598</td>\n",
       "</tr>\n",
       "<tr>\n",
       "  <th>Skew:</th>          <td>-0.233</td> <th>  Prob(JB):          </th> <td>5.55e-05</td>\n",
       "</tr>\n",
       "<tr>\n",
       "  <th>Kurtosis:</th>      <td> 2.708</td> <th>  Cond. No.          </th> <td>1.61e+09</td>\n",
       "</tr>\n",
       "</table><br/><br/>Warnings:<br/>[1] Standard Errors assume that the covariance matrix of the errors is correctly specified.<br/>[2] The condition number is large, 1.61e+09. This might indicate that there are<br/>strong multicollinearity or other numerical problems."
      ],
      "text/plain": [
       "<class 'statsmodels.iolib.summary.Summary'>\n",
       "\"\"\"\n",
       "                            OLS Regression Results                            \n",
       "==============================================================================\n",
       "Dep. Variable:              metascore   R-squared:                       0.230\n",
       "Model:                            OLS   Adj. R-squared:                  0.226\n",
       "Method:                 Least Squares   F-statistic:                     57.69\n",
       "Date:                Wed, 02 Jun 2021   Prob (F-statistic):           1.93e-82\n",
       "Time:                        20:46:45   Log-Likelihood:                -6515.8\n",
       "No. Observations:                1555   AIC:                         1.305e+04\n",
       "Df Residuals:                    1546   BIC:                         1.310e+04\n",
       "Df Model:                           8                                         \n",
       "Covariance Type:            nonrobust                                         \n",
       "=========================================================================================\n",
       "                            coef    std err          t      P>|t|      [0.025      0.975]\n",
       "-----------------------------------------------------------------------------------------\n",
       "const                    49.4691      4.169     11.866      0.000      41.291      57.647\n",
       "action                   -7.0113      1.084     -6.471      0.000      -9.137      -4.886\n",
       "drama                     6.9042      0.977      7.068      0.000       4.988       8.820\n",
       "comedy                   -0.0943      0.929     -0.102      0.919      -1.916       1.727\n",
       "budget                 -1.48e-07   1.96e-08     -7.549      0.000   -1.86e-07    -1.1e-07\n",
       "em_ingles               -14.3752      3.452     -4.164      0.000     -21.147      -7.603\n",
       "americano                -3.7193      1.900     -1.958      0.050      -7.446       0.008\n",
       "worlwide_gross_income  4.889e-08   4.44e-09     11.011      0.000    4.02e-08    5.76e-08\n",
       "duration                  0.1932      0.027      7.174      0.000       0.140       0.246\n",
       "==============================================================================\n",
       "Omnibus:                       21.043   Durbin-Watson:                   2.037\n",
       "Prob(Omnibus):                  0.000   Jarque-Bera (JB):               19.598\n",
       "Skew:                          -0.233   Prob(JB):                     5.55e-05\n",
       "Kurtosis:                       2.708   Cond. No.                     1.61e+09\n",
       "==============================================================================\n",
       "\n",
       "Warnings:\n",
       "[1] Standard Errors assume that the covariance matrix of the errors is correctly specified.\n",
       "[2] The condition number is large, 1.61e+09. This might indicate that there are\n",
       "strong multicollinearity or other numerical problems.\n",
       "\"\"\""
      ]
     },
     "execution_count": 113,
     "metadata": {},
     "output_type": "execute_result"
    }
   ],
   "source": [
    "results = regress(Y,X)\n",
    "results.summary()"
   ]
  },
  {
   "cell_type": "code",
   "execution_count": 114,
   "metadata": {},
   "outputs": [
    {
     "data": {
      "image/png": "[encoded data removed]",
      "text/plain": [
       "<Figure size 432x288 with 1 Axes>"
      ]
     },
     "metadata": {
      "needs_background": "light"
     },
     "output_type": "display_data"
    }
   ],
   "source": [
    "stats.probplot(results.resid, dist='norm', plot=plt)\n",
    "plt.show()"
   ]
  },
  {
   "cell_type": "code",
   "execution_count": 115,
   "metadata": {},
   "outputs": [
    {
     "data": {
      "text/html": [
       "<table class=\"simpletable\">\n",
       "<caption>OLS Regression Results</caption>\n",
       "<tr>\n",
       "  <th>Dep. Variable:</th>        <td>metascore</td>    <th>  R-squared:         </th> <td>   0.230</td> \n",
       "</tr>\n",
       "<tr>\n",
       "  <th>Model:</th>                   <td>OLS</td>       <th>  Adj. R-squared:    </th> <td>   0.226</td> \n",
       "</tr>\n",
       "<tr>\n",
       "  <th>Method:</th>             <td>Least Squares</td>  <th>  F-statistic:       </th> <td>   57.69</td> \n",
       "</tr>\n",
       "<tr>\n",
       "  <th>Date:</th>             <td>Wed, 02 Jun 2021</td> <th>  Prob (F-statistic):</th> <td>1.93e-82</td> \n",
       "</tr>\n",
       "<tr>\n",
       "  <th>Time:</th>                 <td>20:46:47</td>     <th>  Log-Likelihood:    </th> <td> -6515.8</td> \n",
       "</tr>\n",
       "<tr>\n",
       "  <th>No. Observations:</th>      <td>  1555</td>      <th>  AIC:               </th> <td>1.305e+04</td>\n",
       "</tr>\n",
       "<tr>\n",
       "  <th>Df Residuals:</th>          <td>  1546</td>      <th>  BIC:               </th> <td>1.310e+04</td>\n",
       "</tr>\n",
       "<tr>\n",
       "  <th>Df Model:</th>              <td>     8</td>      <th>                     </th>     <td> </td>    \n",
       "</tr>\n",
       "<tr>\n",
       "  <th>Covariance Type:</th>      <td>nonrobust</td>    <th>                     </th>     <td> </td>    \n",
       "</tr>\n",
       "</table>\n",
       "<table class=\"simpletable\">\n",
       "<tr>\n",
       "            <td></td>               <th>coef</th>     <th>std err</th>      <th>t</th>      <th>P>|t|</th>  <th>[0.025</th>    <th>0.975]</th>  \n",
       "</tr>\n",
       "<tr>\n",
       "  <th>const</th>                 <td>   49.4691</td> <td>    4.169</td> <td>   11.866</td> <td> 0.000</td> <td>   41.291</td> <td>   57.647</td>\n",
       "</tr>\n",
       "<tr>\n",
       "  <th>action</th>                <td>   -7.0113</td> <td>    1.084</td> <td>   -6.471</td> <td> 0.000</td> <td>   -9.137</td> <td>   -4.886</td>\n",
       "</tr>\n",
       "<tr>\n",
       "  <th>drama</th>                 <td>    6.9042</td> <td>    0.977</td> <td>    7.068</td> <td> 0.000</td> <td>    4.988</td> <td>    8.820</td>\n",
       "</tr>\n",
       "<tr>\n",
       "  <th>comedy</th>                <td>   -0.0943</td> <td>    0.929</td> <td>   -0.102</td> <td> 0.919</td> <td>   -1.916</td> <td>    1.727</td>\n",
       "</tr>\n",
       "<tr>\n",
       "  <th>budget</th>                <td> -1.48e-07</td> <td> 1.96e-08</td> <td>   -7.549</td> <td> 0.000</td> <td>-1.86e-07</td> <td> -1.1e-07</td>\n",
       "</tr>\n",
       "<tr>\n",
       "  <th>em_ingles</th>             <td>  -14.3752</td> <td>    3.452</td> <td>   -4.164</td> <td> 0.000</td> <td>  -21.147</td> <td>   -7.603</td>\n",
       "</tr>\n",
       "<tr>\n",
       "  <th>americano</th>             <td>   -3.7193</td> <td>    1.900</td> <td>   -1.958</td> <td> 0.050</td> <td>   -7.446</td> <td>    0.008</td>\n",
       "</tr>\n",
       "<tr>\n",
       "  <th>worlwide_gross_income</th> <td> 4.889e-08</td> <td> 4.44e-09</td> <td>   11.011</td> <td> 0.000</td> <td> 4.02e-08</td> <td> 5.76e-08</td>\n",
       "</tr>\n",
       "<tr>\n",
       "  <th>duration</th>              <td>    0.1932</td> <td>    0.027</td> <td>    7.174</td> <td> 0.000</td> <td>    0.140</td> <td>    0.246</td>\n",
       "</tr>\n",
       "</table>\n",
       "<table class=\"simpletable\">\n",
       "<tr>\n",
       "  <th>Omnibus:</th>       <td>21.043</td> <th>  Durbin-Watson:     </th> <td>   2.037</td>\n",
       "</tr>\n",
       "<tr>\n",
       "  <th>Prob(Omnibus):</th> <td> 0.000</td> <th>  Jarque-Bera (JB):  </th> <td>  19.598</td>\n",
       "</tr>\n",
       "<tr>\n",
       "  <th>Skew:</th>          <td>-0.233</td> <th>  Prob(JB):          </th> <td>5.55e-05</td>\n",
       "</tr>\n",
       "<tr>\n",
       "  <th>Kurtosis:</th>      <td> 2.708</td> <th>  Cond. No.          </th> <td>1.61e+09</td>\n",
       "</tr>\n",
       "</table><br/><br/>Warnings:<br/>[1] Standard Errors assume that the covariance matrix of the errors is correctly specified.<br/>[2] The condition number is large, 1.61e+09. This might indicate that there are<br/>strong multicollinearity or other numerical problems."
      ],
      "text/plain": [
       "<class 'statsmodels.iolib.summary.Summary'>\n",
       "\"\"\"\n",
       "                            OLS Regression Results                            \n",
       "==============================================================================\n",
       "Dep. Variable:              metascore   R-squared:                       0.230\n",
       "Model:                            OLS   Adj. R-squared:                  0.226\n",
       "Method:                 Least Squares   F-statistic:                     57.69\n",
       "Date:                Wed, 02 Jun 2021   Prob (F-statistic):           1.93e-82\n",
       "Time:                        20:46:47   Log-Likelihood:                -6515.8\n",
       "No. Observations:                1555   AIC:                         1.305e+04\n",
       "Df Residuals:                    1546   BIC:                         1.310e+04\n",
       "Df Model:                           8                                         \n",
       "Covariance Type:            nonrobust                                         \n",
       "=========================================================================================\n",
       "                            coef    std err          t      P>|t|      [0.025      0.975]\n",
       "-----------------------------------------------------------------------------------------\n",
       "const                    49.4691      4.169     11.866      0.000      41.291      57.647\n",
       "action                   -7.0113      1.084     -6.471      0.000      -9.137      -4.886\n",
       "drama                     6.9042      0.977      7.068      0.000       4.988       8.820\n",
       "comedy                   -0.0943      0.929     -0.102      0.919      -1.916       1.727\n",
       "budget                 -1.48e-07   1.96e-08     -7.549      0.000   -1.86e-07    -1.1e-07\n",
       "em_ingles               -14.3752      3.452     -4.164      0.000     -21.147      -7.603\n",
       "americano                -3.7193      1.900     -1.958      0.050      -7.446       0.008\n",
       "worlwide_gross_income  4.889e-08   4.44e-09     11.011      0.000    4.02e-08    5.76e-08\n",
       "duration                  0.1932      0.027      7.174      0.000       0.140       0.246\n",
       "==============================================================================\n",
       "Omnibus:                       21.043   Durbin-Watson:                   2.037\n",
       "Prob(Omnibus):                  0.000   Jarque-Bera (JB):               19.598\n",
       "Skew:                          -0.233   Prob(JB):                     5.55e-05\n",
       "Kurtosis:                       2.708   Cond. No.                     1.61e+09\n",
       "==============================================================================\n",
       "\n",
       "Warnings:\n",
       "[1] Standard Errors assume that the covariance matrix of the errors is correctly specified.\n",
       "[2] The condition number is large, 1.61e+09. This might indicate that there are\n",
       "strong multicollinearity or other numerical problems.\n",
       "\"\"\""
      ]
     },
     "metadata": {},
     "output_type": "display_data"
    },
    {
     "name": "stdout",
     "output_type": "stream",
     "text": [
      "REMOVIDA A VARIÁVEL  comedy\n",
      "\n",
      "\n",
      "\n"
     ]
    },
    {
     "name": "stderr",
     "output_type": "stream",
     "text": [
      "C:\\Users\\lucca\\anaconda3\\lib\\site-packages\\pandas\\core\\frame.py:3990: SettingWithCopyWarning: \n",
      "A value is trying to be set on a copy of a slice from a DataFrame\n",
      "\n",
      "See the caveats in the documentation: https://pandas.pydata.org/pandas-docs/stable/user_guide/indexing.html#returning-a-view-versus-a-copy\n",
      "  return super().drop(\n"
     ]
    },
    {
     "data": {
      "text/html": [
       "<table class=\"simpletable\">\n",
       "<caption>OLS Regression Results</caption>\n",
       "<tr>\n",
       "  <th>Dep. Variable:</th>        <td>metascore</td>    <th>  R-squared:         </th> <td>   0.230</td> \n",
       "</tr>\n",
       "<tr>\n",
       "  <th>Model:</th>                   <td>OLS</td>       <th>  Adj. R-squared:    </th> <td>   0.226</td> \n",
       "</tr>\n",
       "<tr>\n",
       "  <th>Method:</th>             <td>Least Squares</td>  <th>  F-statistic:       </th> <td>   65.97</td> \n",
       "</tr>\n",
       "<tr>\n",
       "  <th>Date:</th>             <td>Wed, 02 Jun 2021</td> <th>  Prob (F-statistic):</th> <td>2.30e-83</td> \n",
       "</tr>\n",
       "<tr>\n",
       "  <th>Time:</th>                 <td>20:46:47</td>     <th>  Log-Likelihood:    </th> <td> -6515.8</td> \n",
       "</tr>\n",
       "<tr>\n",
       "  <th>No. Observations:</th>      <td>  1555</td>      <th>  AIC:               </th> <td>1.305e+04</td>\n",
       "</tr>\n",
       "<tr>\n",
       "  <th>Df Residuals:</th>          <td>  1547</td>      <th>  BIC:               </th> <td>1.309e+04</td>\n",
       "</tr>\n",
       "<tr>\n",
       "  <th>Df Model:</th>              <td>     7</td>      <th>                     </th>     <td> </td>    \n",
       "</tr>\n",
       "<tr>\n",
       "  <th>Covariance Type:</th>      <td>nonrobust</td>    <th>                     </th>     <td> </td>    \n",
       "</tr>\n",
       "</table>\n",
       "<table class=\"simpletable\">\n",
       "<tr>\n",
       "            <td></td>               <th>coef</th>     <th>std err</th>      <th>t</th>      <th>P>|t|</th>  <th>[0.025</th>    <th>0.975]</th>  \n",
       "</tr>\n",
       "<tr>\n",
       "  <th>const</th>                 <td>   49.3531</td> <td>    4.008</td> <td>   12.312</td> <td> 0.000</td> <td>   41.491</td> <td>   57.216</td>\n",
       "</tr>\n",
       "<tr>\n",
       "  <th>action</th>                <td>   -6.9780</td> <td>    1.033</td> <td>   -6.757</td> <td> 0.000</td> <td>   -9.004</td> <td>   -4.952</td>\n",
       "</tr>\n",
       "<tr>\n",
       "  <th>drama</th>                 <td>    6.9271</td> <td>    0.950</td> <td>    7.290</td> <td> 0.000</td> <td>    5.063</td> <td>    8.791</td>\n",
       "</tr>\n",
       "<tr>\n",
       "  <th>budget</th>                <td> -1.48e-07</td> <td> 1.96e-08</td> <td>   -7.555</td> <td> 0.000</td> <td>-1.86e-07</td> <td> -1.1e-07</td>\n",
       "</tr>\n",
       "<tr>\n",
       "  <th>em_ingles</th>             <td>  -14.3760</td> <td>    3.451</td> <td>   -4.166</td> <td> 0.000</td> <td>  -21.146</td> <td>   -7.606</td>\n",
       "</tr>\n",
       "<tr>\n",
       "  <th>americano</th>             <td>   -3.7301</td> <td>    1.896</td> <td>   -1.967</td> <td> 0.049</td> <td>   -7.450</td> <td>   -0.010</td>\n",
       "</tr>\n",
       "<tr>\n",
       "  <th>worlwide_gross_income</th> <td> 4.888e-08</td> <td> 4.44e-09</td> <td>   11.014</td> <td> 0.000</td> <td> 4.02e-08</td> <td> 5.76e-08</td>\n",
       "</tr>\n",
       "<tr>\n",
       "  <th>duration</th>              <td>    0.1938</td> <td>    0.026</td> <td>    7.392</td> <td> 0.000</td> <td>    0.142</td> <td>    0.245</td>\n",
       "</tr>\n",
       "</table>\n",
       "<table class=\"simpletable\">\n",
       "<tr>\n",
       "  <th>Omnibus:</th>       <td>21.046</td> <th>  Durbin-Watson:     </th> <td>   2.037</td>\n",
       "</tr>\n",
       "<tr>\n",
       "  <th>Prob(Omnibus):</th> <td> 0.000</td> <th>  Jarque-Bera (JB):  </th> <td>  19.600</td>\n",
       "</tr>\n",
       "<tr>\n",
       "  <th>Skew:</th>          <td>-0.233</td> <th>  Prob(JB):          </th> <td>5.54e-05</td>\n",
       "</tr>\n",
       "<tr>\n",
       "  <th>Kurtosis:</th>      <td> 2.708</td> <th>  Cond. No.          </th> <td>1.58e+09</td>\n",
       "</tr>\n",
       "</table><br/><br/>Warnings:<br/>[1] Standard Errors assume that the covariance matrix of the errors is correctly specified.<br/>[2] The condition number is large, 1.58e+09. This might indicate that there are<br/>strong multicollinearity or other numerical problems."
      ],
      "text/plain": [
       "<class 'statsmodels.iolib.summary.Summary'>\n",
       "\"\"\"\n",
       "                            OLS Regression Results                            \n",
       "==============================================================================\n",
       "Dep. Variable:              metascore   R-squared:                       0.230\n",
       "Model:                            OLS   Adj. R-squared:                  0.226\n",
       "Method:                 Least Squares   F-statistic:                     65.97\n",
       "Date:                Wed, 02 Jun 2021   Prob (F-statistic):           2.30e-83\n",
       "Time:                        20:46:47   Log-Likelihood:                -6515.8\n",
       "No. Observations:                1555   AIC:                         1.305e+04\n",
       "Df Residuals:                    1547   BIC:                         1.309e+04\n",
       "Df Model:                           7                                         \n",
       "Covariance Type:            nonrobust                                         \n",
       "=========================================================================================\n",
       "                            coef    std err          t      P>|t|      [0.025      0.975]\n",
       "-----------------------------------------------------------------------------------------\n",
       "const                    49.3531      4.008     12.312      0.000      41.491      57.216\n",
       "action                   -6.9780      1.033     -6.757      0.000      -9.004      -4.952\n",
       "drama                     6.9271      0.950      7.290      0.000       5.063       8.791\n",
       "budget                 -1.48e-07   1.96e-08     -7.555      0.000   -1.86e-07    -1.1e-07\n",
       "em_ingles               -14.3760      3.451     -4.166      0.000     -21.146      -7.606\n",
       "americano                -3.7301      1.896     -1.967      0.049      -7.450      -0.010\n",
       "worlwide_gross_income  4.888e-08   4.44e-09     11.014      0.000    4.02e-08    5.76e-08\n",
       "duration                  0.1938      0.026      7.392      0.000       0.142       0.245\n",
       "==============================================================================\n",
       "Omnibus:                       21.046   Durbin-Watson:                   2.037\n",
       "Prob(Omnibus):                  0.000   Jarque-Bera (JB):               19.600\n",
       "Skew:                          -0.233   Prob(JB):                     5.54e-05\n",
       "Kurtosis:                       2.708   Cond. No.                     1.58e+09\n",
       "==============================================================================\n",
       "\n",
       "Warnings:\n",
       "[1] Standard Errors assume that the covariance matrix of the errors is correctly specified.\n",
       "[2] The condition number is large, 1.58e+09. This might indicate that there are\n",
       "strong multicollinearity or other numerical problems.\n",
       "\"\"\""
      ]
     },
     "metadata": {},
     "output_type": "display_data"
    },
    {
     "name": "stdout",
     "output_type": "stream",
     "text": [
      "REMOVIDA A VARIÁVEL  americano\n",
      "\n",
      "\n",
      "\n"
     ]
    },
    {
     "data": {
      "text/html": [
       "<table class=\"simpletable\">\n",
       "<caption>OLS Regression Results</caption>\n",
       "<tr>\n",
       "  <th>Dep. Variable:</th>        <td>metascore</td>    <th>  R-squared:         </th> <td>   0.228</td> \n",
       "</tr>\n",
       "<tr>\n",
       "  <th>Model:</th>                   <td>OLS</td>       <th>  Adj. R-squared:    </th> <td>   0.225</td> \n",
       "</tr>\n",
       "<tr>\n",
       "  <th>Method:</th>             <td>Least Squares</td>  <th>  F-statistic:       </th> <td>   76.18</td> \n",
       "</tr>\n",
       "<tr>\n",
       "  <th>Date:</th>             <td>Wed, 02 Jun 2021</td> <th>  Prob (F-statistic):</th> <td>1.71e-83</td> \n",
       "</tr>\n",
       "<tr>\n",
       "  <th>Time:</th>                 <td>20:46:47</td>     <th>  Log-Likelihood:    </th> <td> -6517.7</td> \n",
       "</tr>\n",
       "<tr>\n",
       "  <th>No. Observations:</th>      <td>  1555</td>      <th>  AIC:               </th> <td>1.305e+04</td>\n",
       "</tr>\n",
       "<tr>\n",
       "  <th>Df Residuals:</th>          <td>  1548</td>      <th>  BIC:               </th> <td>1.309e+04</td>\n",
       "</tr>\n",
       "<tr>\n",
       "  <th>Df Model:</th>              <td>     6</td>      <th>                     </th>     <td> </td>    \n",
       "</tr>\n",
       "<tr>\n",
       "  <th>Covariance Type:</th>      <td>nonrobust</td>    <th>                     </th>     <td> </td>    \n",
       "</tr>\n",
       "</table>\n",
       "<table class=\"simpletable\">\n",
       "<tr>\n",
       "            <td></td>               <th>coef</th>     <th>std err</th>      <th>t</th>      <th>P>|t|</th>  <th>[0.025</th>    <th>0.975]</th>  \n",
       "</tr>\n",
       "<tr>\n",
       "  <th>const</th>                 <td>   48.4657</td> <td>    3.987</td> <td>   12.157</td> <td> 0.000</td> <td>   40.646</td> <td>   56.285</td>\n",
       "</tr>\n",
       "<tr>\n",
       "  <th>action</th>                <td>   -6.9630</td> <td>    1.034</td> <td>   -6.737</td> <td> 0.000</td> <td>   -8.990</td> <td>   -4.936</td>\n",
       "</tr>\n",
       "<tr>\n",
       "  <th>drama</th>                 <td>    6.9080</td> <td>    0.951</td> <td>    7.264</td> <td> 0.000</td> <td>    5.043</td> <td>    8.773</td>\n",
       "</tr>\n",
       "<tr>\n",
       "  <th>budget</th>                <td>-1.515e-07</td> <td> 1.95e-08</td> <td>   -7.758</td> <td> 0.000</td> <td> -1.9e-07</td> <td>-1.13e-07</td>\n",
       "</tr>\n",
       "<tr>\n",
       "  <th>em_ingles</th>             <td>  -17.4365</td> <td>    3.083</td> <td>   -5.655</td> <td> 0.000</td> <td>  -23.485</td> <td>  -11.388</td>\n",
       "</tr>\n",
       "<tr>\n",
       "  <th>worlwide_gross_income</th> <td> 4.843e-08</td> <td> 4.44e-09</td> <td>   10.916</td> <td> 0.000</td> <td> 3.97e-08</td> <td> 5.71e-08</td>\n",
       "</tr>\n",
       "<tr>\n",
       "  <th>duration</th>              <td>    0.1987</td> <td>    0.026</td> <td>    7.607</td> <td> 0.000</td> <td>    0.147</td> <td>    0.250</td>\n",
       "</tr>\n",
       "</table>\n",
       "<table class=\"simpletable\">\n",
       "<tr>\n",
       "  <th>Omnibus:</th>       <td>20.450</td> <th>  Durbin-Watson:     </th> <td>   2.034</td>\n",
       "</tr>\n",
       "<tr>\n",
       "  <th>Prob(Omnibus):</th> <td> 0.000</td> <th>  Jarque-Bera (JB):  </th> <td>  19.018</td>\n",
       "</tr>\n",
       "<tr>\n",
       "  <th>Skew:</th>          <td>-0.229</td> <th>  Prob(JB):          </th> <td>7.42e-05</td>\n",
       "</tr>\n",
       "<tr>\n",
       "  <th>Kurtosis:</th>      <td> 2.710</td> <th>  Cond. No.          </th> <td>1.56e+09</td>\n",
       "</tr>\n",
       "</table><br/><br/>Warnings:<br/>[1] Standard Errors assume that the covariance matrix of the errors is correctly specified.<br/>[2] The condition number is large, 1.56e+09. This might indicate that there are<br/>strong multicollinearity or other numerical problems."
      ],
      "text/plain": [
       "<class 'statsmodels.iolib.summary.Summary'>\n",
       "\"\"\"\n",
       "                            OLS Regression Results                            \n",
       "==============================================================================\n",
       "Dep. Variable:              metascore   R-squared:                       0.228\n",
       "Model:                            OLS   Adj. R-squared:                  0.225\n",
       "Method:                 Least Squares   F-statistic:                     76.18\n",
       "Date:                Wed, 02 Jun 2021   Prob (F-statistic):           1.71e-83\n",
       "Time:                        20:46:47   Log-Likelihood:                -6517.7\n",
       "No. Observations:                1555   AIC:                         1.305e+04\n",
       "Df Residuals:                    1548   BIC:                         1.309e+04\n",
       "Df Model:                           6                                         \n",
       "Covariance Type:            nonrobust                                         \n",
       "=========================================================================================\n",
       "                            coef    std err          t      P>|t|      [0.025      0.975]\n",
       "-----------------------------------------------------------------------------------------\n",
       "const                    48.4657      3.987     12.157      0.000      40.646      56.285\n",
       "action                   -6.9630      1.034     -6.737      0.000      -8.990      -4.936\n",
       "drama                     6.9080      0.951      7.264      0.000       5.043       8.773\n",
       "budget                -1.515e-07   1.95e-08     -7.758      0.000    -1.9e-07   -1.13e-07\n",
       "em_ingles               -17.4365      3.083     -5.655      0.000     -23.485     -11.388\n",
       "worlwide_gross_income  4.843e-08   4.44e-09     10.916      0.000    3.97e-08    5.71e-08\n",
       "duration                  0.1987      0.026      7.607      0.000       0.147       0.250\n",
       "==============================================================================\n",
       "Omnibus:                       20.450   Durbin-Watson:                   2.034\n",
       "Prob(Omnibus):                  0.000   Jarque-Bera (JB):               19.018\n",
       "Skew:                          -0.229   Prob(JB):                     7.42e-05\n",
       "Kurtosis:                       2.710   Cond. No.                     1.56e+09\n",
       "==============================================================================\n",
       "\n",
       "Warnings:\n",
       "[1] Standard Errors assume that the covariance matrix of the errors is correctly specified.\n",
       "[2] The condition number is large, 1.56e+09. This might indicate that there are\n",
       "strong multicollinearity or other numerical problems.\n",
       "\"\"\""
      ]
     },
     "metadata": {},
     "output_type": "display_data"
    },
    {
     "name": "stdout",
     "output_type": "stream",
     "text": [
      "REMOVIDA A VARIÁVEL  em_ingles\n",
      "\n",
      "\n",
      "\n"
     ]
    },
    {
     "data": {
      "text/html": [
       "<table class=\"simpletable\">\n",
       "<caption>OLS Regression Results</caption>\n",
       "<tr>\n",
       "  <th>Dep. Variable:</th>        <td>metascore</td>    <th>  R-squared:         </th> <td>   0.212</td> \n",
       "</tr>\n",
       "<tr>\n",
       "  <th>Model:</th>                   <td>OLS</td>       <th>  Adj. R-squared:    </th> <td>   0.209</td> \n",
       "</tr>\n",
       "<tr>\n",
       "  <th>Method:</th>             <td>Least Squares</td>  <th>  F-statistic:       </th> <td>   83.35</td> \n",
       "</tr>\n",
       "<tr>\n",
       "  <th>Date:</th>             <td>Wed, 02 Jun 2021</td> <th>  Prob (F-statistic):</th> <td>1.15e-77</td> \n",
       "</tr>\n",
       "<tr>\n",
       "  <th>Time:</th>                 <td>20:46:47</td>     <th>  Log-Likelihood:    </th> <td> -6533.6</td> \n",
       "</tr>\n",
       "<tr>\n",
       "  <th>No. Observations:</th>      <td>  1555</td>      <th>  AIC:               </th> <td>1.308e+04</td>\n",
       "</tr>\n",
       "<tr>\n",
       "  <th>Df Residuals:</th>          <td>  1549</td>      <th>  BIC:               </th> <td>1.311e+04</td>\n",
       "</tr>\n",
       "<tr>\n",
       "  <th>Df Model:</th>              <td>     5</td>      <th>                     </th>     <td> </td>    \n",
       "</tr>\n",
       "<tr>\n",
       "  <th>Covariance Type:</th>      <td>nonrobust</td>    <th>                     </th>     <td> </td>    \n",
       "</tr>\n",
       "</table>\n",
       "<table class=\"simpletable\">\n",
       "<tr>\n",
       "            <td></td>               <th>coef</th>     <th>std err</th>      <th>t</th>      <th>P>|t|</th>  <th>[0.025</th>    <th>0.975]</th>  \n",
       "</tr>\n",
       "<tr>\n",
       "  <th>const</th>                 <td>   31.0968</td> <td>    2.567</td> <td>   12.115</td> <td> 0.000</td> <td>   26.062</td> <td>   36.132</td>\n",
       "</tr>\n",
       "<tr>\n",
       "  <th>action</th>                <td>   -6.5241</td> <td>    1.041</td> <td>   -6.268</td> <td> 0.000</td> <td>   -8.566</td> <td>   -4.482</td>\n",
       "</tr>\n",
       "<tr>\n",
       "  <th>drama</th>                 <td>    7.0353</td> <td>    0.960</td> <td>    7.327</td> <td> 0.000</td> <td>    5.152</td> <td>    8.919</td>\n",
       "</tr>\n",
       "<tr>\n",
       "  <th>budget</th>                <td>-1.622e-07</td> <td> 1.96e-08</td> <td>   -8.260</td> <td> 0.000</td> <td>-2.01e-07</td> <td>-1.24e-07</td>\n",
       "</tr>\n",
       "<tr>\n",
       "  <th>worlwide_gross_income</th> <td> 4.824e-08</td> <td> 4.48e-09</td> <td>   10.766</td> <td> 0.000</td> <td> 3.94e-08</td> <td>  5.7e-08</td>\n",
       "</tr>\n",
       "<tr>\n",
       "  <th>duration</th>              <td>    0.2022</td> <td>    0.026</td> <td>    7.665</td> <td> 0.000</td> <td>    0.150</td> <td>    0.254</td>\n",
       "</tr>\n",
       "</table>\n",
       "<table class=\"simpletable\">\n",
       "<tr>\n",
       "  <th>Omnibus:</th>       <td>17.040</td> <th>  Durbin-Watson:     </th> <td>   2.034</td>\n",
       "</tr>\n",
       "<tr>\n",
       "  <th>Prob(Omnibus):</th> <td> 0.000</td> <th>  Jarque-Bera (JB):  </th> <td>  15.892</td>\n",
       "</tr>\n",
       "<tr>\n",
       "  <th>Skew:</th>          <td>-0.207</td> <th>  Prob(JB):          </th> <td>0.000354</td>\n",
       "</tr>\n",
       "<tr>\n",
       "  <th>Kurtosis:</th>      <td> 2.728</td> <th>  Cond. No.          </th> <td>8.38e+08</td>\n",
       "</tr>\n",
       "</table><br/><br/>Warnings:<br/>[1] Standard Errors assume that the covariance matrix of the errors is correctly specified.<br/>[2] The condition number is large, 8.38e+08. This might indicate that there are<br/>strong multicollinearity or other numerical problems."
      ],
      "text/plain": [
       "<class 'statsmodels.iolib.summary.Summary'>\n",
       "\"\"\"\n",
       "                            OLS Regression Results                            \n",
       "==============================================================================\n",
       "Dep. Variable:              metascore   R-squared:                       0.212\n",
       "Model:                            OLS   Adj. R-squared:                  0.209\n",
       "Method:                 Least Squares   F-statistic:                     83.35\n",
       "Date:                Wed, 02 Jun 2021   Prob (F-statistic):           1.15e-77\n",
       "Time:                        20:46:47   Log-Likelihood:                -6533.6\n",
       "No. Observations:                1555   AIC:                         1.308e+04\n",
       "Df Residuals:                    1549   BIC:                         1.311e+04\n",
       "Df Model:                           5                                         \n",
       "Covariance Type:            nonrobust                                         \n",
       "=========================================================================================\n",
       "                            coef    std err          t      P>|t|      [0.025      0.975]\n",
       "-----------------------------------------------------------------------------------------\n",
       "const                    31.0968      2.567     12.115      0.000      26.062      36.132\n",
       "action                   -6.5241      1.041     -6.268      0.000      -8.566      -4.482\n",
       "drama                     7.0353      0.960      7.327      0.000       5.152       8.919\n",
       "budget                -1.622e-07   1.96e-08     -8.260      0.000   -2.01e-07   -1.24e-07\n",
       "worlwide_gross_income  4.824e-08   4.48e-09     10.766      0.000    3.94e-08     5.7e-08\n",
       "duration                  0.2022      0.026      7.665      0.000       0.150       0.254\n",
       "==============================================================================\n",
       "Omnibus:                       17.040   Durbin-Watson:                   2.034\n",
       "Prob(Omnibus):                  0.000   Jarque-Bera (JB):               15.892\n",
       "Skew:                          -0.207   Prob(JB):                     0.000354\n",
       "Kurtosis:                       2.728   Cond. No.                     8.38e+08\n",
       "==============================================================================\n",
       "\n",
       "Warnings:\n",
       "[1] Standard Errors assume that the covariance matrix of the errors is correctly specified.\n",
       "[2] The condition number is large, 8.38e+08. This might indicate that there are\n",
       "strong multicollinearity or other numerical problems.\n",
       "\"\"\""
      ]
     },
     "metadata": {},
     "output_type": "display_data"
    },
    {
     "name": "stdout",
     "output_type": "stream",
     "text": [
      "REMOVIDA A VARIÁVEL  action\n",
      "\n",
      "\n",
      "\n"
     ]
    },
    {
     "data": {
      "text/html": [
       "<table class=\"simpletable\">\n",
       "<caption>OLS Regression Results</caption>\n",
       "<tr>\n",
       "  <th>Dep. Variable:</th>        <td>metascore</td>    <th>  R-squared:         </th> <td>   0.192</td> \n",
       "</tr>\n",
       "<tr>\n",
       "  <th>Model:</th>                   <td>OLS</td>       <th>  Adj. R-squared:    </th> <td>   0.190</td> \n",
       "</tr>\n",
       "<tr>\n",
       "  <th>Method:</th>             <td>Least Squares</td>  <th>  F-statistic:       </th> <td>   92.09</td> \n",
       "</tr>\n",
       "<tr>\n",
       "  <th>Date:</th>             <td>Wed, 02 Jun 2021</td> <th>  Prob (F-statistic):</th> <td>2.57e-70</td> \n",
       "</tr>\n",
       "<tr>\n",
       "  <th>Time:</th>                 <td>20:46:47</td>     <th>  Log-Likelihood:    </th> <td> -6553.1</td> \n",
       "</tr>\n",
       "<tr>\n",
       "  <th>No. Observations:</th>      <td>  1555</td>      <th>  AIC:               </th> <td>1.312e+04</td>\n",
       "</tr>\n",
       "<tr>\n",
       "  <th>Df Residuals:</th>          <td>  1550</td>      <th>  BIC:               </th> <td>1.314e+04</td>\n",
       "</tr>\n",
       "<tr>\n",
       "  <th>Df Model:</th>              <td>     4</td>      <th>                     </th>     <td> </td>    \n",
       "</tr>\n",
       "<tr>\n",
       "  <th>Covariance Type:</th>      <td>nonrobust</td>    <th>                     </th>     <td> </td>    \n",
       "</tr>\n",
       "</table>\n",
       "<table class=\"simpletable\">\n",
       "<tr>\n",
       "            <td></td>               <th>coef</th>     <th>std err</th>      <th>t</th>      <th>P>|t|</th>  <th>[0.025</th>    <th>0.975]</th>  \n",
       "</tr>\n",
       "<tr>\n",
       "  <th>const</th>                 <td>   30.4750</td> <td>    2.596</td> <td>   11.738</td> <td> 0.000</td> <td>   25.382</td> <td>   35.568</td>\n",
       "</tr>\n",
       "<tr>\n",
       "  <th>drama</th>                 <td>    8.4616</td> <td>    0.944</td> <td>    8.961</td> <td> 0.000</td> <td>    6.609</td> <td>   10.314</td>\n",
       "</tr>\n",
       "<tr>\n",
       "  <th>budget</th>                <td>-1.838e-07</td> <td> 1.96e-08</td> <td>   -9.394</td> <td> 0.000</td> <td>-2.22e-07</td> <td>-1.45e-07</td>\n",
       "</tr>\n",
       "<tr>\n",
       "  <th>worlwide_gross_income</th> <td> 4.729e-08</td> <td> 4.53e-09</td> <td>   10.433</td> <td> 0.000</td> <td> 3.84e-08</td> <td> 5.62e-08</td>\n",
       "</tr>\n",
       "<tr>\n",
       "  <th>duration</th>              <td>    0.1929</td> <td>    0.027</td> <td>    7.235</td> <td> 0.000</td> <td>    0.141</td> <td>    0.245</td>\n",
       "</tr>\n",
       "</table>\n",
       "<table class=\"simpletable\">\n",
       "<tr>\n",
       "  <th>Omnibus:</th>       <td>18.611</td> <th>  Durbin-Watson:     </th> <td>   2.058</td>\n",
       "</tr>\n",
       "<tr>\n",
       "  <th>Prob(Omnibus):</th> <td> 0.000</td> <th>  Jarque-Bera (JB):  </th> <td>  16.001</td>\n",
       "</tr>\n",
       "<tr>\n",
       "  <th>Skew:</th>          <td>-0.186</td> <th>  Prob(JB):          </th> <td>0.000335</td>\n",
       "</tr>\n",
       "<tr>\n",
       "  <th>Kurtosis:</th>      <td> 2.670</td> <th>  Cond. No.          </th> <td>8.37e+08</td>\n",
       "</tr>\n",
       "</table><br/><br/>Warnings:<br/>[1] Standard Errors assume that the covariance matrix of the errors is correctly specified.<br/>[2] The condition number is large, 8.37e+08. This might indicate that there are<br/>strong multicollinearity or other numerical problems."
      ],
      "text/plain": [
       "<class 'statsmodels.iolib.summary.Summary'>\n",
       "\"\"\"\n",
       "                            OLS Regression Results                            \n",
       "==============================================================================\n",
       "Dep. Variable:              metascore   R-squared:                       0.192\n",
       "Model:                            OLS   Adj. R-squared:                  0.190\n",
       "Method:                 Least Squares   F-statistic:                     92.09\n",
       "Date:                Wed, 02 Jun 2021   Prob (F-statistic):           2.57e-70\n",
       "Time:                        20:46:47   Log-Likelihood:                -6553.1\n",
       "No. Observations:                1555   AIC:                         1.312e+04\n",
       "Df Residuals:                    1550   BIC:                         1.314e+04\n",
       "Df Model:                           4                                         \n",
       "Covariance Type:            nonrobust                                         \n",
       "=========================================================================================\n",
       "                            coef    std err          t      P>|t|      [0.025      0.975]\n",
       "-----------------------------------------------------------------------------------------\n",
       "const                    30.4750      2.596     11.738      0.000      25.382      35.568\n",
       "drama                     8.4616      0.944      8.961      0.000       6.609      10.314\n",
       "budget                -1.838e-07   1.96e-08     -9.394      0.000   -2.22e-07   -1.45e-07\n",
       "worlwide_gross_income  4.729e-08   4.53e-09     10.433      0.000    3.84e-08    5.62e-08\n",
       "duration                  0.1929      0.027      7.235      0.000       0.141       0.245\n",
       "==============================================================================\n",
       "Omnibus:                       18.611   Durbin-Watson:                   2.058\n",
       "Prob(Omnibus):                  0.000   Jarque-Bera (JB):               16.001\n",
       "Skew:                          -0.186   Prob(JB):                     0.000335\n",
       "Kurtosis:                       2.670   Cond. No.                     8.37e+08\n",
       "==============================================================================\n",
       "\n",
       "Warnings:\n",
       "[1] Standard Errors assume that the covariance matrix of the errors is correctly specified.\n",
       "[2] The condition number is large, 8.37e+08. This might indicate that there are\n",
       "strong multicollinearity or other numerical problems.\n",
       "\"\"\""
      ]
     },
     "metadata": {},
     "output_type": "display_data"
    },
    {
     "name": "stdout",
     "output_type": "stream",
     "text": [
      "REMOVIDA A VARIÁVEL  duration\n",
      "\n",
      "\n",
      "\n"
     ]
    },
    {
     "data": {
      "text/html": [
       "<table class=\"simpletable\">\n",
       "<caption>OLS Regression Results</caption>\n",
       "<tr>\n",
       "  <th>Dep. Variable:</th>        <td>metascore</td>    <th>  R-squared:         </th> <td>   0.165</td> \n",
       "</tr>\n",
       "<tr>\n",
       "  <th>Model:</th>                   <td>OLS</td>       <th>  Adj. R-squared:    </th> <td>   0.163</td> \n",
       "</tr>\n",
       "<tr>\n",
       "  <th>Method:</th>             <td>Least Squares</td>  <th>  F-statistic:       </th> <td>   102.0</td> \n",
       "</tr>\n",
       "<tr>\n",
       "  <th>Date:</th>             <td>Wed, 02 Jun 2021</td> <th>  Prob (F-statistic):</th> <td>3.03e-60</td> \n",
       "</tr>\n",
       "<tr>\n",
       "  <th>Time:</th>                 <td>20:46:47</td>     <th>  Log-Likelihood:    </th> <td> -6578.9</td> \n",
       "</tr>\n",
       "<tr>\n",
       "  <th>No. Observations:</th>      <td>  1555</td>      <th>  AIC:               </th> <td>1.317e+04</td>\n",
       "</tr>\n",
       "<tr>\n",
       "  <th>Df Residuals:</th>          <td>  1551</td>      <th>  BIC:               </th> <td>1.319e+04</td>\n",
       "</tr>\n",
       "<tr>\n",
       "  <th>Df Model:</th>              <td>     3</td>      <th>                     </th>     <td> </td>    \n",
       "</tr>\n",
       "<tr>\n",
       "  <th>Covariance Type:</th>      <td>nonrobust</td>    <th>                     </th>     <td> </td>    \n",
       "</tr>\n",
       "</table>\n",
       "<table class=\"simpletable\">\n",
       "<tr>\n",
       "            <td></td>               <th>coef</th>     <th>std err</th>      <th>t</th>      <th>P>|t|</th>  <th>[0.025</th>    <th>0.975]</th>  \n",
       "</tr>\n",
       "<tr>\n",
       "  <th>const</th>                 <td>   48.4049</td> <td>    0.787</td> <td>   61.473</td> <td> 0.000</td> <td>   46.860</td> <td>   49.949</td>\n",
       "</tr>\n",
       "<tr>\n",
       "  <th>drama</th>                 <td>   11.5792</td> <td>    0.854</td> <td>   13.558</td> <td> 0.000</td> <td>    9.904</td> <td>   13.254</td>\n",
       "</tr>\n",
       "<tr>\n",
       "  <th>budget</th>                <td>-1.455e-07</td> <td> 1.91e-08</td> <td>   -7.599</td> <td> 0.000</td> <td>-1.83e-07</td> <td>-1.08e-07</td>\n",
       "</tr>\n",
       "<tr>\n",
       "  <th>worlwide_gross_income</th> <td> 5.176e-08</td> <td> 4.56e-09</td> <td>   11.341</td> <td> 0.000</td> <td> 4.28e-08</td> <td> 6.07e-08</td>\n",
       "</tr>\n",
       "</table>\n",
       "<table class=\"simpletable\">\n",
       "<tr>\n",
       "  <th>Omnibus:</th>       <td>28.627</td> <th>  Durbin-Watson:     </th> <td>   2.052</td>\n",
       "</tr>\n",
       "<tr>\n",
       "  <th>Prob(Omnibus):</th> <td> 0.000</td> <th>  Jarque-Bera (JB):  </th> <td>  27.197</td>\n",
       "</tr>\n",
       "<tr>\n",
       "  <th>Skew:</th>          <td>-0.285</td> <th>  Prob(JB):          </th> <td>1.24e-06</td>\n",
       "</tr>\n",
       "<tr>\n",
       "  <th>Kurtosis:</th>      <td> 2.693</td> <th>  Cond. No.          </th> <td>3.32e+08</td>\n",
       "</tr>\n",
       "</table><br/><br/>Warnings:<br/>[1] Standard Errors assume that the covariance matrix of the errors is correctly specified.<br/>[2] The condition number is large, 3.32e+08. This might indicate that there are<br/>strong multicollinearity or other numerical problems."
      ],
      "text/plain": [
       "<class 'statsmodels.iolib.summary.Summary'>\n",
       "\"\"\"\n",
       "                            OLS Regression Results                            \n",
       "==============================================================================\n",
       "Dep. Variable:              metascore   R-squared:                       0.165\n",
       "Model:                            OLS   Adj. R-squared:                  0.163\n",
       "Method:                 Least Squares   F-statistic:                     102.0\n",
       "Date:                Wed, 02 Jun 2021   Prob (F-statistic):           3.03e-60\n",
       "Time:                        20:46:47   Log-Likelihood:                -6578.9\n",
       "No. Observations:                1555   AIC:                         1.317e+04\n",
       "Df Residuals:                    1551   BIC:                         1.319e+04\n",
       "Df Model:                           3                                         \n",
       "Covariance Type:            nonrobust                                         \n",
       "=========================================================================================\n",
       "                            coef    std err          t      P>|t|      [0.025      0.975]\n",
       "-----------------------------------------------------------------------------------------\n",
       "const                    48.4049      0.787     61.473      0.000      46.860      49.949\n",
       "drama                    11.5792      0.854     13.558      0.000       9.904      13.254\n",
       "budget                -1.455e-07   1.91e-08     -7.599      0.000   -1.83e-07   -1.08e-07\n",
       "worlwide_gross_income  5.176e-08   4.56e-09     11.341      0.000    4.28e-08    6.07e-08\n",
       "==============================================================================\n",
       "Omnibus:                       28.627   Durbin-Watson:                   2.052\n",
       "Prob(Omnibus):                  0.000   Jarque-Bera (JB):               27.197\n",
       "Skew:                          -0.285   Prob(JB):                     1.24e-06\n",
       "Kurtosis:                       2.693   Cond. No.                     3.32e+08\n",
       "==============================================================================\n",
       "\n",
       "Warnings:\n",
       "[1] Standard Errors assume that the covariance matrix of the errors is correctly specified.\n",
       "[2] The condition number is large, 3.32e+08. This might indicate that there are\n",
       "strong multicollinearity or other numerical problems.\n",
       "\"\"\""
      ]
     },
     "metadata": {},
     "output_type": "display_data"
    },
    {
     "name": "stdout",
     "output_type": "stream",
     "text": [
      "REMOVIDA A VARIÁVEL  budget\n",
      "\n",
      "\n",
      "\n"
     ]
    },
    {
     "data": {
      "text/html": [
       "<table class=\"simpletable\">\n",
       "<caption>OLS Regression Results</caption>\n",
       "<tr>\n",
       "  <th>Dep. Variable:</th>        <td>metascore</td>    <th>  R-squared:         </th> <td>   0.134</td> \n",
       "</tr>\n",
       "<tr>\n",
       "  <th>Model:</th>                   <td>OLS</td>       <th>  Adj. R-squared:    </th> <td>   0.133</td> \n",
       "</tr>\n",
       "<tr>\n",
       "  <th>Method:</th>             <td>Least Squares</td>  <th>  F-statistic:       </th> <td>   119.7</td> \n",
       "</tr>\n",
       "<tr>\n",
       "  <th>Date:</th>             <td>Wed, 02 Jun 2021</td> <th>  Prob (F-statistic):</th> <td>4.51e-49</td> \n",
       "</tr>\n",
       "<tr>\n",
       "  <th>Time:</th>                 <td>20:46:47</td>     <th>  Log-Likelihood:    </th> <td> -6607.4</td> \n",
       "</tr>\n",
       "<tr>\n",
       "  <th>No. Observations:</th>      <td>  1555</td>      <th>  AIC:               </th> <td>1.322e+04</td>\n",
       "</tr>\n",
       "<tr>\n",
       "  <th>Df Residuals:</th>          <td>  1552</td>      <th>  BIC:               </th> <td>1.324e+04</td>\n",
       "</tr>\n",
       "<tr>\n",
       "  <th>Df Model:</th>              <td>     2</td>      <th>                     </th>     <td> </td>    \n",
       "</tr>\n",
       "<tr>\n",
       "  <th>Covariance Type:</th>      <td>nonrobust</td>    <th>                     </th>     <td> </td>    \n",
       "</tr>\n",
       "</table>\n",
       "<table class=\"simpletable\">\n",
       "<tr>\n",
       "            <td></td>               <th>coef</th>     <th>std err</th>      <th>t</th>      <th>P>|t|</th>  <th>[0.025</th>    <th>0.975]</th>  \n",
       "</tr>\n",
       "<tr>\n",
       "  <th>const</th>                 <td>   45.5687</td> <td>    0.706</td> <td>   64.555</td> <td> 0.000</td> <td>   44.184</td> <td>   46.953</td>\n",
       "</tr>\n",
       "<tr>\n",
       "  <th>drama</th>                 <td>   12.0265</td> <td>    0.867</td> <td>   13.864</td> <td> 0.000</td> <td>   10.325</td> <td>   13.728</td>\n",
       "</tr>\n",
       "<tr>\n",
       "  <th>worlwide_gross_income</th> <td> 3.344e-08</td> <td> 3.95e-09</td> <td>    8.475</td> <td> 0.000</td> <td> 2.57e-08</td> <td> 4.12e-08</td>\n",
       "</tr>\n",
       "</table>\n",
       "<table class=\"simpletable\">\n",
       "<tr>\n",
       "  <th>Omnibus:</th>       <td>31.141</td> <th>  Durbin-Watson:     </th> <td>   2.023</td>\n",
       "</tr>\n",
       "<tr>\n",
       "  <th>Prob(Omnibus):</th> <td> 0.000</td> <th>  Jarque-Bera (JB):  </th> <td>  24.732</td>\n",
       "</tr>\n",
       "<tr>\n",
       "  <th>Skew:</th>          <td>-0.226</td> <th>  Prob(JB):          </th> <td>4.26e-06</td>\n",
       "</tr>\n",
       "<tr>\n",
       "  <th>Kurtosis:</th>      <td> 2.580</td> <th>  Cond. No.          </th> <td>3.13e+08</td>\n",
       "</tr>\n",
       "</table><br/><br/>Warnings:<br/>[1] Standard Errors assume that the covariance matrix of the errors is correctly specified.<br/>[2] The condition number is large, 3.13e+08. This might indicate that there are<br/>strong multicollinearity or other numerical problems."
      ],
      "text/plain": [
       "<class 'statsmodels.iolib.summary.Summary'>\n",
       "\"\"\"\n",
       "                            OLS Regression Results                            \n",
       "==============================================================================\n",
       "Dep. Variable:              metascore   R-squared:                       0.134\n",
       "Model:                            OLS   Adj. R-squared:                  0.133\n",
       "Method:                 Least Squares   F-statistic:                     119.7\n",
       "Date:                Wed, 02 Jun 2021   Prob (F-statistic):           4.51e-49\n",
       "Time:                        20:46:47   Log-Likelihood:                -6607.4\n",
       "No. Observations:                1555   AIC:                         1.322e+04\n",
       "Df Residuals:                    1552   BIC:                         1.324e+04\n",
       "Df Model:                           2                                         \n",
       "Covariance Type:            nonrobust                                         \n",
       "=========================================================================================\n",
       "                            coef    std err          t      P>|t|      [0.025      0.975]\n",
       "-----------------------------------------------------------------------------------------\n",
       "const                    45.5687      0.706     64.555      0.000      44.184      46.953\n",
       "drama                    12.0265      0.867     13.864      0.000      10.325      13.728\n",
       "worlwide_gross_income  3.344e-08   3.95e-09      8.475      0.000    2.57e-08    4.12e-08\n",
       "==============================================================================\n",
       "Omnibus:                       31.141   Durbin-Watson:                   2.023\n",
       "Prob(Omnibus):                  0.000   Jarque-Bera (JB):               24.732\n",
       "Skew:                          -0.226   Prob(JB):                     4.26e-06\n",
       "Kurtosis:                       2.580   Cond. No.                     3.13e+08\n",
       "==============================================================================\n",
       "\n",
       "Warnings:\n",
       "[1] Standard Errors assume that the covariance matrix of the errors is correctly specified.\n",
       "[2] The condition number is large, 3.13e+08. This might indicate that there are\n",
       "strong multicollinearity or other numerical problems.\n",
       "\"\"\""
      ]
     },
     "metadata": {},
     "output_type": "display_data"
    }
   ],
   "source": [
    "Y = dados['metascore']\n",
    "\n",
    "X2 = dados[['action', 'drama', 'comedy', 'budget', 'em_ingles', 'americano', 'worlwide_gross_income', 'duration']]\n",
    "\n",
    "\n",
    "results2 = results # Modelo com todas as variáveis\n",
    "display(results.summary())\n",
    "\n",
    "\n",
    "while len(results2.params)>3:\n",
    "    \n",
    "    \n",
    "    \n",
    "    # Identifica variável com maior valor-p\n",
    "    i = list(results2.pvalues).index(results2.pvalues.max())    \n",
    "    remove = results2.pvalues.index[i]\n",
    "    X2.drop(remove, axis=1, inplace=True)\n",
    "    print(\"REMOVIDA A VARIÁVEL \", remove)\n",
    "    \n",
    "    print(\"\\n\\n\")\n",
    "    results2 = regress(Y,X2)\n",
    "    display(results2.summary())"
   ]
  },
  {
   "cell_type": "code",
   "execution_count": 116,
   "metadata": {},
   "outputs": [
    {
     "data": {
      "image/png": "[encoded data removed]",
      "text/plain": [
       "<Figure size 432x288 with 1 Axes>"
      ]
     },
     "metadata": {
      "needs_background": "light"
     },
     "output_type": "display_data"
    }
   ],
   "source": [
    "#verificando a normalidade dos residuos(erros)\n",
    "residuos = results2.resid\n",
    "\n",
    "plt.figure(figsize=(6,4))\n",
    "stats.probplot(residuos, dist='norm', plot=plt);"
   ]
  },
  {
   "cell_type": "code",
   "execution_count": 117,
   "metadata": {},
   "outputs": [
    {
     "data": {
      "image/png": "[encoded data removed]",
      "text/plain": [
       "<Figure size 432x288 with 1 Axes>"
      ]
     },
     "metadata": {
      "needs_background": "light"
     },
     "output_type": "display_data"
    }
   ],
   "source": [
    "feature1 = X2[\"drama\"]\n",
    "feature2 = X2[\"worlwide_gross_income\"]\n",
    "\n",
    "# Recupera os parâmetros calculados\n",
    "beta0_hat = results2.params[0]  \n",
    "beta1_hat = results2.params[1]  \n",
    "beta2_hat = results2.params[2]  \n",
    "\n",
    "def f(feature1, feature2):\n",
    "    return beta0_hat + beta1_hat*feature1 + beta2_hat*feature2\n",
    "\n",
    "npoints = 100\n",
    "x_vc = np.linspace(feature1.min(), feature1.max(), npoints)\n",
    "y_vc = np.linspace(feature2.min(), feature2.max(), npoints)\n",
    "\n",
    "# Constrói uma grade de 100x100 pontos \n",
    "eixo_x, eixo_y = np.meshgrid(x_vc, y_vc)\n",
    "fit_z = f(eixo_x, eixo_y)\n",
    "\n",
    "# Plota os pontos e o plano em 3D\n",
    "plt3d = plt.figure().gca(projection=\"3d\")\n",
    "plt3d.plot_surface(eixo_x, eixo_y, fit_z)\n",
    "plt3d.scatter(feature1, feature2, Y, color=\"r\")\n",
    "plt3d.set_xlabel(\"feature1\")\n",
    "plt3d.set_ylabel(\"feature2\")\n",
    "plt3d.set_zlabel(\"Y\")\n",
    "plt.show()"
   ]
  },
  {
   "cell_type": "code",
   "execution_count": null,
   "metadata": {},
   "outputs": [],
   "source": []
  },
  {
   "cell_type": "code",
   "execution_count": null,
   "metadata": {},
   "outputs": [],
   "source": []
  }
 ],
 "metadata": {
  "kernelspec": {
   "display_name": "Python 3",
   "language": "python",
   "name": "python3"
  },
  "language_info": {
   "codemirror_mode": {
    "name": "ipython",
    "version": 3
   },
   "file_extension": ".py",
   "mimetype": "text/x-python",
   "name": "python",
   "nbconvert_exporter": "python",
   "pygments_lexer": "ipython3",
   "version": "3.8.3"
  }
 },
 "nbformat": 4,
 "nbformat_minor": 4
}
